{
 "cells": [
  {
   "cell_type": "code",
   "execution_count": null,
   "metadata": {
    "id": "Q1oFbIUnS9xW"
   },
   "outputs": [],
   "source": [
    "import tensorflow as tf\n",
    "import pandas as pd\n",
    "import re\n",
    "import numpy as np\n",
    "import os\n",
    "import time\n",
    "from sklearn.model_selection import train_test_split"
   ]
  },
  {
   "cell_type": "code",
   "execution_count": null,
   "metadata": {
    "colab": {
     "base_uri": "https://localhost:8080/"
    },
    "executionInfo": {
     "elapsed": 18615,
     "status": "ok",
     "timestamp": 1669356566301,
     "user": {
      "displayName": "陳皇佑",
      "userId": "01619903051591522740"
     },
     "user_tz": -480
    },
    "id": "efvT7v9RjPRX",
    "outputId": "ad48f8a4-9c36-4168-cc80-c3fff7e0dd0d"
   },
   "outputs": [
    {
     "name": "stdout",
     "output_type": "stream",
     "text": [
      "Mounted at /content/drive\n"
     ]
    }
   ],
   "source": [
    "from google.colab import drive\n",
    "drive.mount('/content/drive')"
   ]
  },
  {
   "cell_type": "code",
   "execution_count": null,
   "metadata": {
    "id": "ZUuypNKln6b2"
   },
   "outputs": [],
   "source": [
    "df_train = pd.read_csv('/content/drive/MyDrive/DMLab2/data/train_data_colab.csv')\n",
    "df_test  = pd.read_csv('/content/drive/MyDrive/DMLab2/data/test_data_colab.csv')\n",
    "label_trans=['anger', 'anticipation', 'disgust', 'fear', 'sadness', 'surprise', 'trust', 'joy']\n",
    "raw_train_x, raw_train_y = list(df_train['text']), list(df_train['emotion'])\n",
    "raw_test_x = list(df_test['text'])"
   ]
  },
  {
   "cell_type": "code",
   "execution_count": null,
   "metadata": {
    "colab": {
     "base_uri": "https://localhost:8080/"
    },
    "executionInfo": {
     "elapsed": 555,
     "status": "ok",
     "timestamp": 1669356577084,
     "user": {
      "displayName": "陳皇佑",
      "userId": "01619903051591522740"
     },
     "user_tz": -480
    },
    "id": "OJ5-9sQNhaup",
    "outputId": "c638b34a-7e0e-4218-de47-f0c32f2e2512"
   },
   "outputs": [
    {
     "data": {
      "text/plain": [
       "array(['anger', 'anticipation', 'disgust', 'fear', 'joy', 'sadness',\n",
       "       'surprise', 'trust'], dtype='<U12')"
      ]
     },
     "execution_count": 5,
     "metadata": {},
     "output_type": "execute_result"
    }
   ],
   "source": [
    "from sklearn.preprocessing import LabelEncoder\n",
    "\n",
    "label_encoder = LabelEncoder()\n",
    "label_encoder.fit(raw_train_y)\n",
    "label_encoder.classes_"
   ]
  },
  {
   "cell_type": "code",
   "execution_count": null,
   "metadata": {
    "colab": {
     "base_uri": "https://localhost:8080/"
    },
    "executionInfo": {
     "elapsed": 613,
     "status": "ok",
     "timestamp": 1669356577694,
     "user": {
      "displayName": "陳皇佑",
      "userId": "01619903051591522740"
     },
     "user_tz": -480
    },
    "id": "PoPCJ9uLh7Bx",
    "outputId": "c1a4c95a-5cbb-406a-f203-a14093fc3501"
   },
   "outputs": [
    {
     "data": {
      "text/plain": [
       "array([0., 0., 0., 0., 1., 0., 0., 0.], dtype=float32)"
      ]
     },
     "execution_count": 6,
     "metadata": {},
     "output_type": "execute_result"
    }
   ],
   "source": [
    "from keras.utils import to_categorical\n",
    "def label_encode(le, labels):\n",
    "    enc = le.transform(labels)\n",
    "    return to_categorical(enc)\n",
    "\n",
    "def label_decode(le, one_hot_label):\n",
    "    dec = np.argmax(one_hot_label, axis=1)\n",
    "    return le.inverse_transform(dec)\n",
    "\n",
    "raw_train_y = label_encode(label_encoder, raw_train_y)\n",
    "raw_train_y[0]"
   ]
  },
  {
   "cell_type": "code",
   "execution_count": null,
   "metadata": {
    "colab": {
     "base_uri": "https://localhost:8080/"
    },
    "executionInfo": {
     "elapsed": 8,
     "status": "ok",
     "timestamp": 1669356577694,
     "user": {
      "displayName": "陳皇佑",
      "userId": "01619903051591522740"
     },
     "user_tz": -480
    },
    "id": "uzekq-LvlfXw",
    "outputId": "bea11acd-e4fd-4b48-a2d4-75ddb65acd13"
   },
   "outputs": [
    {
     "data": {
      "text/plain": [
       "0.0"
      ]
     },
     "execution_count": 7,
     "metadata": {},
     "output_type": "execute_result"
    }
   ],
   "source": [
    "raw_train_y[0][0]"
   ]
  },
  {
   "cell_type": "code",
   "execution_count": null,
   "metadata": {
    "id": "GAdWX-QEilf9"
   },
   "outputs": [],
   "source": [
    "train_x, val_x, train_y, val_y = train_test_split(raw_train_x, raw_train_y, test_size=0.2, random_state=1)\n",
    "\n",
    "# df_train = pd.DataFrame({'text': train_x, 'anger':train_y[:][0], 'anticipation':train_y[:][1], 'disgust':train_y[:][2],\\\n",
    "#                          'fear':train_y[:][3], 'joy':train_y[:][4], 'sadness':train_y[:][5],'surprise':train_y[:][6], 'trust':train_y[:][7]})\n",
    "# df_val = pd.DataFrame({'text': val_x,  'anger':val_y[0], 'anticipation':val_y[1], 'disgust':val_y[2],\\\n",
    "#                          'fear':val_y[3], 'joy':val_y[4], 'sadness':val_y[5],'surprise':val_y[6], 'trust':val_y[7]})\n",
    "\n",
    "# df_train.to_csv('/content/drive/MyDrive/MLFinal/MLFinalData/train_set.csv')\n",
    "# df_val.to_csv('/content/drive/MyDrive/MLFinal/MLFinalData/val_set.csv')"
   ]
  },
  {
   "cell_type": "code",
   "execution_count": null,
   "metadata": {
    "colab": {
     "base_uri": "https://localhost:8080/"
    },
    "executionInfo": {
     "elapsed": 16,
     "status": "ok",
     "timestamp": 1669356578783,
     "user": {
      "displayName": "陳皇佑",
      "userId": "01619903051591522740"
     },
     "user_tz": -480
    },
    "id": "I2OJyxP7nyfK",
    "outputId": "37408941-48be-4025-d38e-c2612d405b8a"
   },
   "outputs": [
    {
     "data": {
      "text/plain": [
       "['Niggas be saving bitches that aint even theirs <LH>',\n",
       " '@_s_hari @CynicalDevs and @CompleteDevPod too! <LH>',\n",
       " \"I need a hot shower and some pain killers now... but thankfully it wasn't major! <LH>\",\n",
       " '<LH> Happy Bday to myself mane!!🎂🥂🎈🎉',\n",
       " 'raised myself, grandpa jus gave me the right mindset ❤️ <LH>',\n",
       " 'Sooo I work w/ nothing but married men but they always talking about how they be cheating on their wives <LH>',\n",
       " \"#ThingsIAlwaysSeemToForget: It's none of my #business what other #people #think of me...;-) #realtalk <LH> #MondayMorning\",\n",
       " 'Way to go on @foxnewspolitics @LindseyGrahamSC <LH> of you for backing @realDonaldTrump',\n",
       " 'Is it time to break? 🤔 <LH> <LH>',\n",
       " '#Deleting a sent WhatsApp message is <LH> 👌🏻😂',\n",
       " '@AyeSoBrooklyn Gooooooood Morning ‼️‼️‼️‼️ <LH>',\n",
       " 'They really showing these episodes of Due North 😂 <LH>',\n",
       " 'I wonder what that <LH> #Goat is doing? #Koza #Nutella #Capricorn',\n",
       " '@POTUS unlike you--the great veterans of this country bravely FOUGHT against and DENOUNCED Nazis <LH>',\n",
       " '<LH> chose to stay on the cross and face the entire crucifixion for you and me & to give us the freedom to choose salvation. #GodLikeLove',\n",
       " '@Littlun007 Oh my that will be stunning. <LH>',\n",
       " '<LH> no one.',\n",
       " '<LH> is a friend of sinners. Are you? Consider carefully before you answer.',\n",
       " '@dilmark1234 - <LH> for the follow. Let the conversations, sharing and learning begin. Tell me more about you!',\n",
       " \"GOoD Day! It's miracle MONDAY! Be the Miracle some one prayed for yesterday! #MondayMotivation #Monday  #CyberMonday #MAPA <LH>\",\n",
       " \"today I'm thankful that @aarynxjayde remains my friend despite my stalking and controlling tendencies. <LH>\",\n",
       " 'Change me, so I can handle what you are walking me through. <LH> #Changed #Pointitup',\n",
       " \"Another day! It's September 06, 2017 at 05:00AM Have a wonderful and <LH> day!\",\n",
       " '@Prosperity_Soc #faith, #hope, and <LH> will last forever. The greatest is #love. 1 corinthians 13:13 <LH>',\n",
       " \"I'm 21 and off to Rome today!! 😄✈️ <LH> #Rome <LH> #properadult\",\n",
       " \"I'm watching @AGT and all I can see is @OfficialMelB one of the most <LH> woman in this world! #AGT #agt #TuesdayThoughts #spice\",\n",
       " \"Oooooooh Tasha mad yall? But it's her fault! 😂😂😂😂 <LH>\",\n",
       " 'I <LH> my family more than comprehension for eternity! Love is amazing!',\n",
       " '@Bspittles Ps - I was supposed to like @leektownsteve  tweet. But clearly I messed that up 😂🙈#hopeless',\n",
       " '@realDonaldTrump It is <LH> that you take this opportunity to attack a political enemy instead of  bringing our country together. <LH>',\n",
       " \"<LH> #Adults' <LH> <LH> is now in progress. <LH> #bless you in <LH> #Name. <LH>\",\n",
       " '#paigereifler and @CamilleRowe look sooo alike! Never heard of paige before but she and cam are so alike in everything! <LH> #kiwi #twins',\n",
       " \"Lemme say this one more damn time . . . . . #jennaforstreamys because she's <LH> LOVE YOU MOM! #dinkfam You deserve it!\",\n",
       " 'When @taylordemerski makes me nervous cause she sleeps with her eyes open 😐😐😓 <LH>',\n",
       " '#Trumpet 🎺Sounds:#Dailyhope #Ability #Talent #Gifts #Map #Will #Life <LH> <LH> #Monday #Direction #Purpose Rom 12:6 Heb 13:21 1 Tim 4:15',\n",
       " '@LiveLifeCorAZy I just passed gas looking at this ish <LH>',\n",
       " '71 The moments in your life are only once #Life <LH> <LH> <LH> <LH> <LH> <LH> <LH> August 23, 2017 at 07:30PM',\n",
       " '@peplamb your #requests to #God. And the <LH> of #God, which transcends all #understanding, will #guard your #hearts and your #minds [2/3]',\n",
       " '<LH> Caturday! @Loki_the_lilac @MaxTheCutePom @MysteryChuck1 @MaryJeurissen @SassyCassyCat @GuidoLock @randomwolf70 @CrashsLanding',\n",
       " 'Samhainophobia - Fear of Halloween 🎃🤡 #fearless <LH>',\n",
       " '@CNNPolitics Lose something @SpeakerRyan? #Morals? #integrity? #Values? All because you did not stand for decency.  <LH> <LH> <LH>',\n",
       " '@CP_Sevenoaks What a great job 100% improvement #sevenoaksinbloom <LH> #eyesoregone',\n",
       " \"#Wonderwoman is the most astonishing film of the summer and i haven't seen it yet... <LH> for me..\",\n",
       " 'Hey Yusuf Samet Çakır thanks for the follow!! Here to #help your <LH> <LH> <LH> endeavors. How’s Ur Day?',\n",
       " 'Not ready to give up erynshikari yet but the fact I have @/PRlORlTIES waiting on me for when I am ready is amazing <LH>',\n",
       " 'Jon bellion, you make my 1 hour commute to work <LH>',\n",
       " \"#DailyGratitude   I am grateful for:  Time spent with my wife this weekend. My pets' health. The birds singing.  <LH> #gratitude\",\n",
       " 'Love like a miracle no one knows when the fall of rain 💓#Love',\n",
       " 'Home is truely Where the ❤️ is ,,,,,,#STL <LH> #💯💞',\n",
       " '@Timbers_Jim @racing_m8 @BenAspinall12 this is the <LH> i crave',\n",
       " 'Hey Seattle! Join me tonite at Sandy Lew (1408 1st Ave) 6-8 pm for bubbles, treats & shopping to benefit SAL! #backtoschool <LH>',\n",
       " \"Don't trust words, trust actions. <LH> <LH> <LH> <LH> #life\",\n",
       " '@Seahawks_News Unnecessary gossip I know ppl saw, but we must remain ++ always & <LH> #12sEverywhere 💙💚💙🤗🏈🔮',\n",
       " '@mahrohj You are a waste of life... <LH>',\n",
       " 'Does @MTV really expect to outdo @GameOfThrones with this? #Lorde <LH> #GOTFTW',\n",
       " '@SamSeder @majorityfm Your level of #dishonesty and misrepresentation of @SamHarrisOrg is sickening. #Shame.',\n",
       " 'Fear is temporary, regret is forever 🖤  <LH> #Temporal <LH> <LH>',\n",
       " \"I just texted my #mother to say thank you on #LaborDay for her years of labor on behalf of my sisters and I. I'm thankful and #blessed.\",\n",
       " 'When one of your best friends offers to let you move in with her and her husband <LH>',\n",
       " 'Closed Sell 1.4 Lots EURUSD 1.19029 for +13.0 pips, total for today +895.3 pips <LH> <LH> <LH> <LH> <LH>',\n",
       " '71 The moments in your life are only once #Life <LH> <LH> <LH> <LH> <LH> <LH> <LH> October 03, 2017 at 06:30AM',\n",
       " 'Ok <LH> playing #CardiB! 💁🏽',\n",
       " '@GetSavviHealth #12DaysofGiveaways@fehzaksun a great friend who deserves this <LH> phone....and a Mom in a million',\n",
       " 'Closed Buy 2.1 Lots EURUSD 1.18072 for -5.2 pips, total for today +454.6 pips <LH> <LH> <LH> <LH> <LH>',\n",
       " 'Remembered how much me and my cousins had cried when @iamsrk as Aman dies in #KHNH   watched the scene again! <LH> :( #painful',\n",
       " 'Talking about #food with the boyfriend made me <LH> smh who is sending me #money for a #pizza?',\n",
       " '@taylorcaniff I love your long hair <LH>',\n",
       " \"@TN4AD There's a difference here, Arkansas is actually trying to correct a problem. Keeping Gulati in suggests otherwise <LH>\",\n",
       " 'Ricegum CALLS OUT Book Is Knowledge Mankind |  <LH>  😨',\n",
       " 'Do i look like i give a shit? I am the coolest motherfucker on this planet!!!  <LH> #WhatsAppDown #problems #idontcare #what',\n",
       " 'Watching <LH> on @netflix... I relate to this so much. So many feelings.',\n",
       " \"Life couldn't get any better <LH>\",\n",
       " 'Daniel is soo yummy 😋 <LH>',\n",
       " '@Eugene_Scott So does he need to represent Crews to corroborate Crews allegations?  Isn’t that the big story?  <LH>',\n",
       " '@MuslimIQ @MuslimYouthUSA You ROCK! <LH>',\n",
       " 'After a missed cut, nothing soothes the soul more than a 2 am cab ride with Culture Club in the background. <LH>',\n",
       " \"@suzimcc @adage i'm <LH> to #click 😃\",\n",
       " 'Sonja seems to only be rude and condescending to Tinsley... <LH> #RHONY',\n",
       " \"Wanting to drink every time I don't have homework or work... is this why college kids are alcoholics? Lmao <LH>\",\n",
       " 'Just reached up & touched my face only to find it bloody #bloodynose #Superhero #ASWarrior #Spoonie <LH>',\n",
       " \"I've been able to maintain my sleep schedule all summer long 🙃🤗 <LH>\",\n",
       " \"She's the rest of my life i'm lost if I can't find her again. <LH> #ineedyou #pleasecomeback\",\n",
       " 'Waited 10 hours to get gas, went up 12 cents. <LH>',\n",
       " 'When we 1st met it was in a recording studio & for years tried to get me to be someone else. - EMP #focus #artistforlife <LH> #emp <LH>',\n",
       " 'I will be the one to push you off a cliff if you want to learn how to fly. ~ a friend to me 😀 <LH> #girlfriend #FriendsForever #BFF',\n",
       " '@BrightlandsIF <LH> re follow! Enjoy a <LH> <LH> <LH> night or day! #Cheers! ✌🌴🌞',\n",
       " '@dineoranaka yes men why you are apologising coz we are not raise the same way <LH> 😎 parents',\n",
       " '11 If you are #female, <LH> and over 20 DM me for potential #love. <LH> October 23, 2017 at 10:30AM',\n",
       " '.@Delta DL3870 postponed next day, spent night @ LGA w/ 3 kids, only people complaining got vouchers (we did), only 5 cots available <LH>',\n",
       " '\"So is he that layeth up treasure for himself, and is not rich toward God.\" ~Luke 12:21 <LH>',\n",
       " 'Feels so fucking good to be caught up on rent. 😍😍😍😍😍😍😍😍😍😍😍😍😍😍😍😍😍😍😍😍😍😍😍 <LH>',\n",
       " 'Every problem has a solution and that solution is your faith. <LH> 😊😊',\n",
       " '\"Now Peter sat without in the palace: and a damsel came unto him, saying, Thou also wast with Jesus of Galilee.\" ~Matthew 26:69 <LH>',\n",
       " 'My bass jumped two feet out of the water when he struck my spinner bait! #hugebass <LH>',\n",
       " 'Activate your faith and move forward in agreement with #God.',\n",
       " '@garethwalker congratulations to you all <LH> 😋',\n",
       " 'But dang, although I’m so tired right now, thankful to have a job where 🏀 defines your day & good moments and people make the job. <LH>',\n",
       " 'Life is too short! Don’t sweat the small stuff. #prayforvegas <LH> #heartbreaking 💔',\n",
       " 'Long Saturday ahead of me. <LH>',\n",
       " '@LindsArchibald Very intimidating match to be at. Really bad atmosphere. So much hate amongst a large section of celtic fans.. <LH>',\n",
       " '@realDonaldTrump Your only agenda is to kill everything Obama created. <LH> <LH>',\n",
       " 'A man in the HEB parking lot just yelled \"basic Mazda mom\" at me while I was getting out of my Mazda... #yep <LH>',\n",
       " '@SheenaGilpin Thanks Sheena! <LH>',\n",
       " 'Not <LH> for 280 characters. Very <LH> for gravy tho... and freedom. <LH>',\n",
       " 'Auto play video on websites are most irritating things now days.#fedup',\n",
       " '@WhiteHouse What a joke- #PussyGrabberinChief calling for prayer. <LH> <LH>',\n",
       " 'Been upset all morning and Deb just came in my room  with a big bowl of mashed potatoes and gravy. I am <LH>',\n",
       " 'Guess im not meant to play ball again... <LH> <LH>',\n",
       " '@Starbucks the Pumpkin Spice Chai Tea Latte was amazing! Taste like fall!! 🍁 #starbucks <LH>',\n",
       " \"If you're <LH> with a #moment of #Understanding,your #intuition will be #strong enough for your #intent to truly #believe.\",\n",
       " \"Even though she's #stressed, she's always feeling #blessedt.  Her spouses are the #best.\",\n",
       " 'Have you ever had chemistry click with a random stranger no forcing not trying but pure chemistry <LH> <LH> #Bromo #Hmm',\n",
       " 'Come on Wales! <LH>',\n",
       " 'We even have healthier and veggie options for those of you who prefer that! <LH> #veggie #dutchpot',\n",
       " 'Fashion is made to become unfashionable. - Coco Chanel <LH>  <LH> #yogapants  <LH>  <LH>',\n",
       " \"Watched the first season of <LH> and I don't know how I feel about it. It might be too cool for me maybe? I don't get it\",\n",
       " 'Will & Grace straight savage. <LH>',\n",
       " '@hankschulman Brian Kenny loves his saber metric numbers and forgets that human beings still need to play the games.  #mad-scientist',\n",
       " 'I haven’t been this excited for a long time!! What is this feeling?? <LH> #GoDougJones !',\n",
       " '@WCCsports @WavesSoccer Special group of special people on a special mission!!! <LH> #humbleandhungry #backtoback',\n",
       " '<LH> was in the Fire /Hebrews  <LH> was in Loins Den /Daniel#God was in the Ark with Noah <LH> is with President Trump. God sets them up',\n",
       " 'God is good to me. I will never loose faith in his plan !!! #powerful <LH> #Godisgood',\n",
       " 'My stomach sounds like Chewbacca <LH>',\n",
       " 'Is #Motherhood a #Sacrifice or a #Privilege?  #mother #motherlove #parents #mom  <LH> #poll #polls #opinion',\n",
       " \"@CNN @SenDeanHeller @realDonaldTrump to #donateblood for the victims of #LasVegasShooting? Hell no! He's so <LH> of the #sight of #blood!\",\n",
       " '@slhutch1980 OMG! That picture should make the front of your and @arsenben80’s Xmas Cards!!! 👌🏼 <LH> #Idyllic',\n",
       " \"God's divine mercy & grace will reach out to u  #God'sLove @Femangelo\",\n",
       " '@CalumWorthy We tried 2 get tix 4 @aitruthfilm but its not showing anywhere within 100 miles of here🙁 What now?🙁Lily,10 #ComeOnIndiana <LH>',\n",
       " 'Can’t wait to see @PanthersIHC take on @zsclions tomorrow night👊🏻🏒 #WelcomeToNottingham #PanthersNation <LH> #ChampionsGobeyond',\n",
       " \"I haven't been feeling myself lately so Mason went ahead and bought me some roses and wrote me a letter today.💌🌹 #blessed😌\",\n",
       " 'Please tweet @JackKingston Condemn this Nazi Apologist! Excuse monger Trump Apologist <LH> on you #Charlottesville #nonazis',\n",
       " 'In my walk, I have had ups and downs; but I was never alone. His right hand always held me <LH> #ReviveTheDream',\n",
       " 'Swim trunks are just as hard for guys to find as bikinis are for girls <LH>',\n",
       " '@imlere @Kid_Named_Trey @CloydRivers political ideology has nothing to do with \"education\". <LH>',\n",
       " 'Family is everything <LH>',\n",
       " \"5 more months and I'll be living about 50ft from the beach! <LH> 🙏🏻🙏🏻🙏🏻\",\n",
       " 'All are justly up in arms about neo (imitation) nazis, but condone a new stadium named for a company that used Jewish slave labor? <LH>',\n",
       " 'DailyDeathDose: The Reality of #1 is that it is impossible to simply \"Replace\" a loved one. #death <LH> #myth',\n",
       " '@NashvilleCMT @CMT <LH> this show',\n",
       " 'Worried about my moms dog ): I hate when she leaves and I get left with this issue 😩😞 <LH>',\n",
       " 'There are a lot of ways to be, but the best way to be is kind.   <LH> #dearhumanity <LH>',\n",
       " 'Today, today 😉😉😉#calm in the storm!',\n",
       " '<LH> continually emphasizes the #Power of <LH> (Mark 11:23-24). <LH> <LH> #RevFrancisIgbekoyi  @FGCFestacDHQ  #FGCN',\n",
       " '@aaliyah_cortez That’s my girl 😘❤️ <LH> we have to celebrate with the girls 🤪💃',\n",
       " \"#CongressKillsFreedom lol 😂😂 I don't which ass👌 started ths hashtag.. #BJP is impotent thn. Hindi mein it's said as napunsak. <LH> #hashtag\",\n",
       " 'My professor let me make up a quiz I missed online 😭🙌🏽 <LH>',\n",
       " '@mayfairmag @danniiharwood @paulraymondmag @MenOnly_ClubMag <LH> Mr Harwood 😝😝😝',\n",
       " 'Fuck LGBT and fuck feminists <LH> <LH> #WOMENRIGHTS #PAYGAP #legalizecannabis',\n",
       " '@goal @paulpogba I hope this #bromance of #pp & #rl give all #mufc fans #loads of <LH> <LH> for #mufc this season',\n",
       " \"Higher Politics- make sure Steven Luke's and Max Weber essays finished for tomorrow #Politics <LH>\",\n",
       " 'Walking to the bus and got a whiff of burnt marshmallow. Specifically that smell. <LH>',\n",
       " 'Be a single forever 🏊  <LH> & trust injurious to health',\n",
       " '@LaTrice_Ryan God Bless you & your hubby...his Prayer for you...#AWESOME ❣ #GOSHEN',\n",
       " '<LH> <LH> <LH> Arahael beckons and didanodon baffles Dionysus sings a melancholy strain \"PatientsLikeMe, where is my boiled onions?\"',\n",
       " 'No @ufc events until september? <LH>',\n",
       " '#CUDenverGrad Brook you are the most beautiful! <LH> and Educated 😍😘',\n",
       " '@Airtel_Presence Still credit adjustments are not showing on that account. <LH> on @airtelindia',\n",
       " 'Just put a down payment on my new yacht <LH> #humble',\n",
       " 'Exciting day 🤗 <LH>',\n",
       " 'Dating scene - craaazy.😱 <LH> to have my ❤, married, & out of that 🎪 for 22+ yrs. <LH> my son & daughter have wonder spouses too.🙏',\n",
       " 'When your twitter starts blowing up... It must be Queen @Roxie_Rae!!! 💗👸🏼✔️ <LH> #loveher #seeyousoon',\n",
       " 'auntie may be in love with her nephew. <LH> #GameOfThrones',\n",
       " \"Watching @rlumrmusic performing <LH> on #JimmyKimmelLive I'm so proud of this guy... his music feeds the soul 👏🏾\",\n",
       " \"The reading of the <LH> of <LH> is God talking to us. #Study God and you'll never have to wonder how he feels about you. #drleoniemattison\",\n",
       " '@Indie88Toronto The Time Warp?!?! #Awesome!',\n",
       " '@sbaurwaisbord24 thank you i had a very <LH> day at work',\n",
       " '#Sanders supporters must #tear <LH> the #Democratic #Swamp Party or leave it and build a new more honest party.  D Party is sick and rotten',\n",
       " '@LloydMacey1 <LH> voice amazing <LH> 👍 #xfactor @TheXFactor #SaturdayNight #keepupthegoodwork',\n",
       " \"Yes I'm on a Trump-style tirade right now. Don't like it? There's the door!! <LH>\",\n",
       " 'My old nemesis the Préfecture de 👮 has won this day... But I intend to win the war. #administration <LH>',\n",
       " 'How beautiful is my capital city tho <LH> #FeelingPatriotic #Edinburgh',\n",
       " 'Congratulations Doug Jones!! Thank you Alabama!! 🇺🇸 #ALSenate <LH> <LH>',\n",
       " '@narendramodi Cowardly <LH> and cowRashak attacks & the evil designs of hate must be stopped.',\n",
       " '👉#play with her <LH> #boobs     @WhosOnlineXXX  @CamAngelz  @Ratemyass1',\n",
       " 'I thought Miliband in #observer would be bollocks but this \"The single market stands against a market society\" <LH> - feck off neo-liberal',\n",
       " 'Love is priceless when both are on same page but worthless if one aren’t #life <LH> #value #meaning #',\n",
       " '12 If you are #female, <LH> and over 20 DM for a great future <LH> <LH> <LH> <LH> August 08, 2017 at 03:45PM',\n",
       " 'Straight to the hand holding - <LH> #FirstDatesAU',\n",
       " '[#content] [#Marketing] : TheBegonis Robert_Rose No...thank you Joe.',\n",
       " '<LH> Let us always meet each other with smile, for the smile is the beginning of love. ~Mother Teresa <LH>',\n",
       " '69 The moments in your life are only once #Life <LH> <LH> <LH> <LH> <LH> September 24, 2017 at 08:00PM',\n",
       " \"...Out Of Your #TrophyWife #Situations The #Lazy #Ones And #Find Another #Way The <LH> #Universe Allows #Options Fu-kn See 'em And... #NPm\",\n",
       " 'Closed Buy 2.3 Lots EURUSD 1.19412 for +10.1 pips, total for today +729.9 pips <LH> <LH> <LH> <LH> <LH>',\n",
       " 'Imagine, <LH> & Acheive.',\n",
       " 'perks of being statistician <LH>',\n",
       " 'accidentally slept in n showed up 2 work 45 min late n there’s cheesecake i feel so <LH>',\n",
       " '@ronsoak Now I’m eating pringles and drinking V <LH>',\n",
       " 'So everybody dropping joint projects all of sudden huh ......#PRAY 12/25',\n",
       " '@common <LH> bless him stay strong #YoungBuck',\n",
       " '@cuppymusic 😍 waiting on that tweet....#Welcome back to Naija',\n",
       " 'Forgot the mouthpiece to my nebulizer and I’m back to wheezing and chest pain. I also have parent teacher conferences tomorrow <LH>',\n",
       " 'Ah, yes. The <LH> look of stretch-to-fit. Public #school loves it!',\n",
       " 'This game <LH>',\n",
       " '@pizzahut ordered pizza, wings, & breadsticks. Only received the pizza & the bread sticks. Called & they forgot to make my wings. <LH>',\n",
       " 'I’m so hungry 😩😩😩😩 I don’t get off work til 4 and I didn’t bring my lunch. <LH>',\n",
       " \"I have the most amazing friends ever. I'm so lucky to have them in my life. <LH>\",\n",
       " '@AllCityBail Lucky. <LH>',\n",
       " '@Disciple4Lif The question I have is how can you be both a disciple of <LH> and a #Trump supporter?',\n",
       " 'My friend (Person I Sit With) in this lecture bailed today to renew her med card <LH>',\n",
       " 'Let\\'s approve @realDonaldTrump \"great tax plan\" watch it FAIL and then IMPEACH!  #WorthTheInvestment <LH> #taxreform @WhiteHouse @POTUS @GOP',\n",
       " \"and I'll have to leave with the kids in the middle of the night <LH>\",\n",
       " \"@RedCupRebellion I wish you would slow down with all the good good #content. I'm struggling to keep up\",\n",
       " 'Yo today was actually ok 🙂 <LH>',\n",
       " '@_JessCarter Huge congrats on the call-up Jess!! 👏👏👏🦁🦁🦁 Thoroughly deserved!! 🌟🔥 <LH> #TheFuturesBright #YoungGiftedAndRoyalBlue 💙',\n",
       " 'What a perfect night for a cup of tea and good music, or a bottle of beer and Netflix. Hahaha <LH>',\n",
       " 'Found a roach in my car <LH>',\n",
       " '@KajEmbren Added to My <LH> List  #People #Ideas #Influencers #Experience #Leadership #Mindfulness <LH> <LH>  #Contributors',\n",
       " '@DrAlfredMutua Always around of your good work Mr.governor.. <LH> bless#',\n",
       " '@maddow @jimmykimmel How about a new # for 45!  <LH> POTUS I came of age in JFK era where everything was possible. Help me spread it.',\n",
       " '<LH> is on now!',\n",
       " 'What are your dreams people? <LH> #question #life #ask #people',\n",
       " 'Babe to rel in hours lol. <LH> <LH>',\n",
       " \"@chicksonright Currently tearing out the #plantation shutters in my house... I wouldn't want anyone to be #offended!\",\n",
       " '@CCaufield86 Dunno guess I’m just <LH> 👏🏽',\n",
       " 'Do not understand why $FB is dropping so much atm. Just had amazinggg earnings. Is that not good enough??? <LH>',\n",
       " 'i am beyond embarrassed by this manbaby putin elected. i will never. ever. call him #president. <LH> in a elevator 🎶⚡️',\n",
       " \"I'm glad we #finally have <LH> secretaries in the WH. 8 years of incompetence was brutal. Keep it up Secretary of State Tillerson!\",\n",
       " '@allafrica ....why? MPs represent people not the party! #foolishness <LH> #AfricaWakeUp',\n",
       " 'Versus <LH> to Hell  #Change IS happening',\n",
       " '@realDonaldTrump Or what? Oh right, nothing. <LH>',\n",
       " \"I hate mid 20s males and I am so <LH> to have a boyfriend who is one of the only ones I don't\",\n",
       " '@Paola_Dec1231 Please tell me which turnip truck they all fell of off. I want to run them over. <LH> #jerks #timetowaste #stfu',\n",
       " 'I just want a real relationship <LH> <LH> <LH> <LH> #life',\n",
       " \"@IGNUK What an amazing prize, seeing the movie tomorrow. Don't think I will sleep tonight! <LH> #TheLastJedi #SWB2\",\n",
       " '@RiggRut during Freshers Theme decision meeting: \"Maroon is our colour\" ...*committee turns up to sing off in red and black paint\" <LH>',\n",
       " 'Going to watch The Boss Baby tonight! A nice relaxing day and spending time with my fiance! <LH> <LH> #fiance #Movienight',\n",
       " 'Hi Ethan @itsethancole please play <LH> by @FifthHarmony on #Fast9at9 @Channel933  😄 😄',\n",
       " \"#lunchtime question of the day What is one thing you want to try but haven't been #brave enough to?  #purpose #inspiration <LH>\",\n",
       " '@LunaErdemir Your booty looks <LH> keep up the good work you are beautiful in general too',\n",
       " '@finebaum  You can tell which callers are really in the “know”. That would be the ones calling coaches by their first name. <LH>',\n",
       " '@projectevemoms <LH> re follow! Enjoy a <LH> <LH> <LH> night or day! #Cheers! ✌🌴🌞',\n",
       " \"Drink this tea they said.. it's delicious they said.. it taste like a campfire <LH> #JustBeingHonest\",\n",
       " '<LH> <LH>   <LH> <LH>  #ass #bbw  <LH>  #pussy <LH>   <LH>  only  girls  😩 horny <LH>   jacobgigs',\n",
       " \"Script finished, shooting next week. I'll post pics. Pray for me. #videoproduction <LH>\",\n",
       " 'Surpassed my sales goal this month! 💰#blessed',\n",
       " 'So faith comes from hearing & hearing through the word of Christ. Ro10:13-17 What are you listening to? <LH> #earstohear <LH> #goodnews',\n",
       " 'Say to yourself \"I feel #healthy\"',\n",
       " '@realDonaldTrump #idiotntheoval is imploding JUST WATCH AND ENJOY!! ARROGANT POS #resist #remove <LH> #noshame',\n",
       " 'As any pig  🐖 #trump have beef with every powerful lady ,Angela Merkel, Theresa May, and now with the mayor of Puerto Rico Carmen Yulin <LH>',\n",
       " '@PADI Keep your #regulator in, stay #calm, and let your #bubbles help #orient you',\n",
       " 'Shit. Schweppes changed the flavor of the Dry Lemon. <LH>',\n",
       " '#cersie take out #emmapeel <LH> <LH> #shame🔔🕭🔔🕭#shame <LH> <LH>',\n",
       " 'One crazy events after another... there are more mentally sick people out there than you think. <LH> #TakeYouDown',\n",
       " '@IyanlaVanzant @OWNTV @WPGC Hope they tune in to receive the knowledge? #Promote, <LH> and #PassAlong',\n",
       " '@antanddec Becky vardy <LH>',\n",
       " 'Boom Shaka Laka!  Excited for the day to get started.  What a beautiful morning! #Legend #etiquette #myMKlife <LH>',\n",
       " 'Like all the recent changes to the backroom staff @Arsenal 😊😊 <LH> #changeisinevitable #changeisgood',\n",
       " 'Ellie Goulding as Dolly Parton though! <LH>',\n",
       " \"Really can't wait to see what @KemCetinay and @chrishughes_22 new tv show is, little bit leave it 🤙🏻 <LH>\",\n",
       " '<LH> & #Believe, the #universe will work everything out sooner or later.',\n",
       " 'Year 8 National Cup V Central Foundation Friday 8th December 1.30pm KO @ Riddlesdown #timetostepup #believe⚽️⚽️⚽️',\n",
       " 'Closed Buy 1.4 Lots EURUSD 1.18097 for +10.0 pips, total for today +257.9 pips <LH> <LH> <LH> <LH> <LH>',\n",
       " 'Keep <LH> but care.  ―Thomas Pynchon',\n",
       " '<LH> (For Power & Money) and <LH> (For Citizen & Humanity) #Politicians Today  #IftaarBull @TurnbullMalcolm',\n",
       " 'Good time comessssss! Yessssssssss  <LH>',\n",
       " '@momdancer40 @CNNPolitics CNN and its staff have become propaganda arm for those who hate America. <LH>',\n",
       " \"I would have already been dead if it weren't for my best friend. <LH> but even now im loosing her. <LH>\",\n",
       " \"My life is falling into place. God knows who he is placing in my life and exactly what they're doing and what my next steps are 🙏🏼 <LH>\",\n",
       " \"LET'S GO @Lakers !!! 😃🏀😃🏀😃 #nba <LH> <LH> #FanForLife\",\n",
       " 'Hey Pandamen112 thanks for the follow!! Here to #help your <LH> <LH> <LH> endeavors. How’s Ur Day?',\n",
       " 'These next 9 games can potentially 1) win us the division, 2) put us in great position for the WC or 3)knock us out of PS #Royals <LH>',\n",
       " 'Dropping a new song today, <LH> 👀',\n",
       " 'No news can last ten seconds before becoming a meme <LH>',\n",
       " '@CocksWithSocks I’m expecting a win!!!#BELIEVE',\n",
       " \"@mbtasnafu It's like finding a penny. <LH> <LH> 🙏🏻\",\n",
       " '2 days no rice 🙂👍 <LH>',\n",
       " 'Hey Greg White Jr. thanks for the follow!! Here to #help your <LH> <LH> <LH> endeavors. How’s Ur Day?',\n",
       " '@KarimAbouelnaga @KarimAbouelnaga you got that right! Thanks for all that you do and the inspiration that you share! <LH> #Thanks',\n",
       " 'Oh, for #believers in the sense of #believing not just in #God, but in what God can do for, with, and through #people!',\n",
       " 'And so @jtimberlake continues to make $$$ off black music while not caring one iota about black lives #BoycottNFL #TakeAKneeNFL <LH>',\n",
       " 'Can we skip Sunday, please?😁 <LH>',\n",
       " 'Your mother is my sex buddy. <LH> #IAMYoFather #Adam',\n",
       " '@ISXKDawg @IsxRadio Awesome! Thanks so much K-Dawg! Much #appreciated! 🎶🎵',\n",
       " '@Dream925fm Sef Determinatn is Ryt 4Evry Indigenous Persn.So <LH> wt @AmakaCindy1 & @OfficialMickey cnt wait 2twerk wt #LetsTalk 2nyt',\n",
       " '<LH> 💛💗💛 what a special little girl you are 💗💛',\n",
       " 'Closed Buy 1.0 Lots EURUSD 1.18317 for +25.0 pips, total for today +1342.1 pips <LH> <LH> <LH> <LH> <LH>',\n",
       " 'If it was so easy, everyone would do that. <LH> #thinking',\n",
       " 'Shii just shattered my phone screen! <LH>',\n",
       " 'I will be 46 in a month from today <LH> #BlessedAndGrateful',\n",
       " 'Awesome game by the @BlackFerns today by winning the Rugby World Cup! <LH> ladies, much <LH> for what you did!',\n",
       " '<LH> and faith can not coexist ... you must pick one... choose <LH>',\n",
       " '@DollarCars hey guys. Great rip off charging the credit card double the quote! <LH> #rental #rentalcar',\n",
       " \"There's literally no other beautiful gift that a teacher can get than her student doing great for her/himself! <LH> #Teacher\",\n",
       " 'I was so let down the day Eminem apologized for cleaning out the closet #mommysgirl #mommyissues <LH> #passthefuckingtorchpussy #itrustedu',\n",
       " 'Hawaii next year for my brothers wedding!!! 💛 <LH>',\n",
       " '@UplayUbisoft @ritik17narang Pls fix Anno 2070 loggin when you fixing stuff. It dont work! <LH>',\n",
       " '<LH> to all! <LH> <LH> <LH>',\n",
       " '<LH> on @INCIndia for not allwin CBI to act 10yrs n trendin #BJPBabaJailed!! Nxt baba in line is #RahulBabatoBeJailed !! till thn bang kok',\n",
       " 'You will succeed. <LH>',\n",
       " 'Wash & Go . &gt; <LH>',\n",
       " \"If You're Single, Don't Hurry for Your Future Life Partner, God Knows ur Desires &His timing in ur life is Absolutely Perfect. <LH> #BeHoly\",\n",
       " '@Milky_Love_TW01 Mention the most <LH> fate in your life',\n",
       " 'Don’t just thank God every Friday. Thank God because it’s another great day 🙌 <LH> <LH>',\n",
       " '@MissMovies yeeeiii fellow Nolan fan!!!  How about some #GurlPowah, who is ur fav gurl director? (not many, i know, #shame)',\n",
       " 'Closed Buy 1.0 Lots EURUSD 1.15913 for +26.0 pips, total for today +253.8 pips <LH> <LH> <LH> <LH> <LH>',\n",
       " 'happy birthday @CarleeStilliana !!! have a <LH> day🤑🤑 luv n miss u💛💜',\n",
       " 'I got social anxiety, no friends, no intimate relationship, and I am failing to find a job. No wonder i am <LH> <LH> #life',\n",
       " 'Closed Buy 1.8 Lots EURUSD 1.1791 for +10.1 pips, total for today +42.3 pips <LH> <LH> <LH> <LH> <LH>',\n",
       " \"You know you're <LH> when you get an airplane row to yourself\",\n",
       " '@ONTSpecialNeeds <LH> #specialneeds thank you for this!',\n",
       " '@wandersimply This is very #nice! <LH> it!',\n",
       " 'Obsessed with the <LH> remix @edsheeran @Beyonce #sogood',\n",
       " 'But WHERE IS THE NEW @taylorswift13 SONG 😭 <LH> #TS6',\n",
       " \"I've <LH> and I've <LH>\",\n",
       " 'Happen to know that some great poker, dealt by some HOT dealers are at Papi Chulos in Scottsdale .. be there by 6:15..CARDS fly 7PM. #dream…',\n",
       " 'at around 4 on monday morning (october 2nd) gemma and I walked across bangor, drinking a cheap bottle of red and talking about life <LH>',\n",
       " 'Day 33 of 0 smoking and 0 nicotine #nosmokingchallenge #quitsmoking <LH> #transformation',\n",
       " \"I remember when.... look at this shit now. I told I would! I'm not even satisfied yet!  Prayer is the key, faith is the power. <LH>\",\n",
       " 'Basketball season starting tomorrow <LH> #nodistractions #nobreaks #workharder #lockedin',\n",
       " '. Melania Trump + Chelsea Clinton + Barron - blunder thump?  #Trump #dress <LH> #Italy #shoes #Irma #cnn <LH> <LH> <LH> .',\n",
       " \"if you're using #omegle to play, use #Firefox not #Chrome #submissive <LH> #dom #bdsm #fucktoy #slave #master #dominate #domination\",\n",
       " 'Where honesty is to be found, selflessness is transparent. #honestguide <LH> <LH>',\n",
       " '@rachaeleahcar Looks Pretty #Awesome, Rach.! ..... \" Have a Great Day Tomorrow !!! \" :-)',\n",
       " 'we out here being <LH>',\n",
       " 'Recommendations for food in Manchester City centre right now? #help <LH>',\n",
       " '\"Pray as if God will take care of all; act as if all is up to you.\" St. Ignatius of Loyola <LH> <LH>',\n",
       " 'Have you tried our delicious #gin menu yet? #Barnsley #food <LH> #Sheffield #Restaurant',\n",
       " 'Closed Buy 1.0 Lots EURUSD 1.17022 for +25.8 pips, total for today +2328.0 pips <LH> <LH> <LH> <LH> <LH>',\n",
       " 'My teacher just told me I can use other electronics for my test even though it’s on lockdown ...ALL of the answers are on quizlet. <LH>',\n",
       " 'It is a hard <LH> to swallow but if <LH> is not prioritized over <LH> truly, there will be more division than necessary. Discern.',\n",
       " 'Closed Buy 1.0 Lots EURUSD 1.19681 for +26.8 pips, total for today +1352.2 pips <LH> <LH> <LH> <LH> <LH>',\n",
       " 'Sick to death of all these wedding photos and engagement announcements lol <LH> obviously',\n",
       " '. @MostRequestLive @OnAirRomeo please play <LH> by @FifthHarmony on <LH> 6',\n",
       " \"@realDonaldTrump U R the Best Democrat <LH> @IvankaTrump tossed the women's vote\",\n",
       " 'Being rejected from something good just means you were being pointed toward something better...#God #teamjag #jagup^',\n",
       " '\"Adversity is one of Gods most  effective tools strengthening our faith.\" <LH> <LH>',\n",
       " '#NAB Investigations on Corruption and mammoth increase in illegitimate wealth against #IshaqDar and he is serving as Finance Minister <LH>',\n",
       " 'In your hardest times, raise your hands, count your blessings and thank your creator. <LH> #Allah',\n",
       " 'I love my girl and I love tacos. <LH> @tilly1101',\n",
       " '@SteveMcGregor Ooo enjoy, <LH>',\n",
       " \"Lily  has to always be stroked.  she needs  someone to lean on, tell her she's pretty, make her feel good about herself.  <LH> #yr\",\n",
       " \"#ThursdayThoughts It's worth the expenditure when you get paid back w/ great benefits/opportunities. 😍👍✌️#fantastic\",\n",
       " 'Cannot believe that the runner @FloydMayweather actually won this fight <LH>',\n",
       " '@fergoe At least I lead the league in something <LH>',\n",
       " \"Fall TV is among us and I'm embarrassed to admit the number of hours I've watched today. DVR might explode. <LH> #legitcouchpotato\",\n",
       " 'Snow is still coming down ❄️ <LH> #Atlanta',\n",
       " 'Naked and slut...  😉 @adult18x @andreastaylor18 @alexasilver4 @angelabells23 @bennymayers  <LH> #women <LH>',\n",
       " 'Shout for joy to the Lord, all the earth. #Psalms 100:1 <LH> #VerseOfTheDay #AllTheEarth #DiveTheBibleDaily #ShoutForJoy #WorshipTheLord',\n",
       " '#Boris #Hitler, #May #Nobody, #Jeremy #Stalin Not one of them have or will make any <LH> #contribution to <LH> or #welfare of #humans',\n",
       " '@Dom2Game Calling it @klabgames will most likely reveal manga characters during #TGS2017 for the first time <LH>',\n",
       " 'Now playing <LH> - <LH> on Fresh Hits',\n",
       " '1 thing I miss more than walking is game of thrones #partofmylife <LH>',\n",
       " '@CLewandowski_ Who will get royally screwed in the end #sham <LH> #bluewave',\n",
       " 'everybody wants something from me but no 1 ever checks for me smh #leave #me <LH>',\n",
       " \"For this time it isn't fascination- or a dream that will fade and fall apart! It's #Love- this time it's love #MyFoolishHeart!\",\n",
       " \"The fact that I can't put eyedrops in my eyes means it is actually a miracle that a raindrop just fell into one of mine. Feeling <LH>\",\n",
       " '<LH> @MATTHARDYBRAND & @JEFFHARDYBRAND sure seems to be getting closer and closer after watching <LH> tonight! #KeepingFingersCrossed',\n",
       " \"Coworker group text this am. Yea....we're slammed😅 <LH>\",\n",
       " 'Does anyone in #London actually #work? all I see is another #protest every day? #wtf?',\n",
       " '#XFactor Louis was mad to let the coloured chap go he should bring him back he was <LH>',\n",
       " 'Mary was 12 or 14 a #minor Joseph was like 70. <LH> <LH> <LH> <LH> #roymoore #nodifference   <LH>  <LH>',\n",
       " \"@CJARAUJO_  I'm proud of you young man. Go out there and do your thing. Make the most of your opportunity and rep your family name <LH>\",\n",
       " 'Hi @MostRequestLive @OnAirRomeo please play <LH> by @FifthHarmony on <LH> @LaurenJauregui obrigado!!!😍😍😍',\n",
       " '@bisping.....is so damn <LH> to #fight ANYONE ranked in the #Top10 its really <LH> I <LH> he retires, so we can see a #RealChampion',\n",
       " '@CASAbronx Thanks for the <LH> ... stay <LH> 🔥🌞🦁',\n",
       " \"@econtentmag First, consultants and agencies will use <LH> to create <LH> They'll develop the strategy and tactics to deploy it.\",\n",
       " 'Happy moments 😇 - - - - <LH> #moments <LH> <LH> #cutegirl <LH> #me <LH> #today #lights #chicolate #dark <LH> #polishgirl #',\n",
       " 'The only place where the word <LH> means a bad thing #hospital',\n",
       " 'Posting cheques for golf opens #LivingInTheDarkAges then they call to say its cancelled <LH> #Waste #GolfOpens',\n",
       " '@INNCOorg @Tywno @AtelierDanko Why is it behind a paywall? <LH>',\n",
       " 'Shout out @AlexMacleanECL for givin me tips! <LH> 🔋⏳',\n",
       " '#inpoems T429 <LH> #LoveNotHate  Gaffers say how poor growing up innovated solutions musing tales generate no love for modern ways.',\n",
       " 'Picture me knocking on your door :)what would you say ?______ #roadtripsoon <LH> #mistress',\n",
       " 'I can not believe it is already Wednesday - the work week is flying right by! #Wednesday #workWeek <LH> #business #AutoShippingFlorida',\n",
       " 'week 3 of no dairy and excess sugar, down from 213 to 198...gotta get ready for ocean city <LH> <LH> <LH> #workout',\n",
       " 'Losing the will <LH> trying to keep everyone happy is hard work 😓 #JustWantItAllToBeOk <LH> <LH> sorry for moaning #NotMyself 😔',\n",
       " '\"Nasal spray and tacos?! #blessed!\" -@kelkilpat',\n",
       " '@PLxHonestidad @elconfidencial @europapress @BILD @washingtonpost @nytimes @SkyNews in the meantime, new corruption cases in Spain.. <LH>',\n",
       " 'Another #chance & <LH> week Make sure your not conforming &being someone your not be #honest with self &the best you #MondayMotivation',\n",
       " 'If you could use the force to fuck someone...who would it be? And where? #QTMDBA #QUESTION #funny <LH>',\n",
       " \"@sssyakirah Some boys even help fold their friends' laundry eg my roomie @_mhmmdnbl_ #toplad <LH>\",\n",
       " '@Lorraine_Heath Had one of those at RWA one year...sooooooooo good! <LH>',\n",
       " '@GABrownsGuy Oh we were in agreement with your distain for the trade down, however it also has now become our baseline for #mad.',\n",
       " '@sfmta_muni How about a fare reimbursement and also $30 for the #lyft I had to take to get to class on time. <LH> #shouldhavedriven',\n",
       " 'Before I left the stage, I said \"swami kadi hath na chhodso\" and he turned towards me and smirked!!❤️ #WhatAMoment <LH> 🙏🏼',\n",
       " 'Mugabe to be ousted soon. <LH>',\n",
       " 'Thinking  #thinking #ThanksgivingWeek <LH> #ThanksgivingBreak #WhatsHappening <LH> #FolloForFolloBack',\n",
       " '@UFCONFOX I’d like to see @TheNotoriousMMA win it, but @FloydMayweather IS a boxer. <LH>',\n",
       " '@bessbell That was #Charlottesville Virginia  <LH> the KKK was here 3 weeks ago.',\n",
       " '@Asli_Jacqueline Wwooww #JacquDarlu looking so gorgeous.. Mmuucchh <LH> u @Asli_Jacqueline',\n",
       " '@SwintonCharlie Good morning #Beautiful! Hope your birthday weekend is going perfectly ❤️❤️❤️',\n",
       " '<LH> Thank you very much @j_ayrun Have a Formidable Friday <LH> and <LH> <LH> 🌻😀🙏😇👍👏🍀🌞✨🏁❤️',\n",
       " 'A good <LH> is based on <LH> , #honesty , and a running wager between the 2 of you as to who screws it up first. Just my wife and I?',\n",
       " 'Off to the lake with my eldest 🏊 👱👦 <LH> #openwater #swimming #wingman',\n",
       " '<LH> is very expensive; only integrity can afford it .',\n",
       " 'Saturday lovers❤️ <LH>',\n",
       " \"Sometimes I think I'm wasting my time trying to get some one to hanging out with, when they aren't interested <LH> #igiveup\",\n",
       " 'two wins for ol coyote time today: 1) got Misfits tix 2) cancelled a non-cancelable hotel reservation <LH> <LH> <LH>',\n",
       " 'Two cast two fractures #nothappy <LH>',\n",
       " 'The absolute highlight of my day was recieving a hand-written postcard & stickers from the awesome team at @unsplash. So #stoked. #thanks!',\n",
       " '@KayaJones @StacyLStiles @drawandstrike @ScorpiScorpi808 <LH> May God Bless you and your family',\n",
       " '@marsrader @weird_sci So ,#Jesus, huh? It’s very comfortable now to come back to earth. Your turn.',\n",
       " \"@Tori__Alexander friends who don't use mugs with their friends faces on them worry me tbh. <LH> I landed you 💕✨\",\n",
       " '@CBSEveningNews @POTUS Delusional as usual.. <LH> #idiotPotus',\n",
       " 'So bored and <LH> at work. Anyone wanna #chat #dm #rp <LH> #cocktribute #kinky <LH>',\n",
       " \"--Yes, hard of hearing; deployed, then I'm forcibly stopped in my tracks by this. #wtf…\",\n",
       " '@RedNationRising That f n hole cost a million plus. <LH>',\n",
       " '@lilym337 Give it a chance :( <LH>',\n",
       " \"Face timing my mom every night is a must bro, it really does wonders seeing her smile knowing I'm fine <LH> 🙏🏽\",\n",
       " \"I don't even know what to think about this whole #MattLauer scandal <LH>\",\n",
       " \"Gig tonight @craufurdarmsmk. On at 21:30. Doors open at 19:30, don't miss warm up acts. £4 entry fee. <LH>\",\n",
       " 'Hey @SatriniaNh42aoo i Hope you can <LH> from my <LH> Thank you for fallowing me ,have a <LH> day my friend',\n",
       " 'God so good on my soul.  <LH>',\n",
       " 'WORST SEASON EVER!!!! #BB19 #BBPaul <LH>',\n",
       " 'Closed Buy 1.0 Lots EURUSD 1.18996 for +25.3 pips, total for today +3779.8 pips <LH> <LH> <LH> <LH> <LH>',\n",
       " 'Our theme for worship today was JOY! And by golly it was actually joy filled. #thanksholyspirit <LH> #umc',\n",
       " 'Who needs speed dating? I can get rejected 10x a minute on #Bumble. <LH> #TheLastJedi <LH> #singlelife #MentalHealthAwarenessDay',\n",
       " 'We are open tomorrow 8am - 12 noon with #spinfusion at 9:30am 1 hour <LH> #BankHolidayWeekend #sheffieldissuper #barnsleyisbrill',\n",
       " \"I still can't moved on, on what I've heard last night. 🤔 <LH>\",\n",
       " \"@Nickelback Can't wait for Belfast........? Oh...wait a minute.....your NOT playing a show??? #Seriously <LH>\",\n",
       " \"Lmaooo make sure y'all watch past the credits 😂 <LH>\",\n",
       " 'Writing compelling <LH> for the web all day today. Brainstorming over the weekend on <LH> strategies through <LH> and #AdWords 💥',\n",
       " \"@RyanTheOddity Really enjoyed the live broadcast today fam! I'll be checking in again with you fellas & big ups to what u all r doing!#love\",\n",
       " '@RileyLBJ7 @BPTHEGOD_ @youFamousEnough Only One God <LH> & this guy here, he the real #LBJ',\n",
       " 'Proud to say that we have achieved @YourSchoolGames GOLD award for 2nd year running! @HartlepoolSGO <LH> <LH> #ActiveSchools',\n",
       " 'Claiming it so so hard. <LH>',\n",
       " '@Holofuzion - <LH> for the follow. Let the conversations, sharing and learning begin. Tell me more about you!',\n",
       " '@cin_cincc @jdice03 Very, very possible‼️The focus wouldn’t be on him #45’s so insecure <LH>',\n",
       " 'Closed Sell 1.4 Lots EURUSD 1.1644 for +10.3 pips, total for today +32.3 pips <LH> <LH> <LH> <LH> <LH>',\n",
       " 'If he were to ask me if I still love him? The answer will always be yes, cause what turns into hatred never was #love.♥️',\n",
       " 'When code randomly breaks on you and your adamant it worked when first released...just no #frustration <LH> #programming',\n",
       " 'my fucking skin suckssss right now <LH>',\n",
       " \"Trump's obsession with Obama and Clinton is a clear sign he realizes he's not legitimate & it's his insane way of dealing with guilt. <LH>\",\n",
       " '75 The moments in your life are only once #Life <LH> <LH> <LH> <LH> <LH> <LH> <LH> September 20, 2017 at 09:30PM',\n",
       " '@sistervpaul_ Greetings! <LH> for safety.Pray for Recovery.Pray for Restoration  <LH> #Harvey2017',\n",
       " 'Sunday...is rest day..for worker.. like ...one day is need to reduce radiation..#for protection of nature',\n",
       " '@itsonelifeonly, thanks for following our account and welcome to find wonderfull experiences all around the world :) <LH> #learn #havefun',\n",
       " \"When girls say they're ugly, they're most likely joking/insecure/wrong.  When a guy says they're ugly....they're ugly.  <LH>\",\n",
       " '@pissboyfriend @izaaking this is incredible <LH> tbh',\n",
       " \"And that Otto was so busy he didn't let his parents sit down and eat together <LH> #brother&sister #uncle #notdad #canteven 😬\",\n",
       " '@AnneSzam @AmericanAir AA1887 to ATL. Worst hospitality and unable to reschedule flight to make important work meeting. <LH>',\n",
       " \"I can't wait to see what miracles and fabulousity  will be coming my way tomorrow.  #GoodNightWorld #onedayclosertolivingmydreams <LH>\",\n",
       " 'A week ago at #Edgbaston the #Windies were in a funk. Now there is (Shai) #Hope... Great batting on final day of #Headingley test. #bbctms',\n",
       " \"If you didn't wanna help then you should've said no. It's better than being a send off smh <LH>\",\n",
       " \"Man! I'm starting to slowly believe in prayer again! 😅 <LH>\",\n",
       " '@akuashaz None so blind as those who refuse to face the obvious. <LH>',\n",
       " 'Living in a world where fictitious Presidents are held to a higher standard then the actual President. <LH>',\n",
       " \"I know I shouldn't expect greatness at 2am... but @ToppersPizza my order was terrible... cold pizza and my topper sticks look diseased <LH>\",\n",
       " 'Thursday will be my weight-in day😊 <LH>',\n",
       " '@DearAdoption would love to write a piece for your website! Please DM me on how I can contribute. ☺️✨ <LH> for this new discovery!',\n",
       " '@ComeJesusSoon #midst, and all #Israel shall hear, and #fear. [2/2]',\n",
       " '@realDonaldTrump No one Complains more than Donald J Trump... #thinskin <LH> #dumbass #TrumpRussia #TrumpLies',\n",
       " '@DonnieWahlberg I just watched this video.  You are the best! # blockheads life <LH> <LH>',\n",
       " 'Just watched #themist gotta say I preferred the demonic creatures in the original film. #StephenKing #series <LH>',\n",
       " '#CNN I swear Trump supporters will defend his racist ass to the end of time no matter what foolish things he does or say. <LH>',\n",
       " 'Sitting next to him laughing 😂🤔 <LH>',\n",
       " 'that... u realized that u have already feeling for her <LH> #WFGoodbyeWeightlifting',\n",
       " '@vendors4hire I have now made this journey around Earth a total of 107,511 times since I began. <LH>',\n",
       " 'God is sooo good, I woke up this morning with great news🙏🏽 <LH>',\n",
       " 'Today we won #Seafair. Tomorrow I fly to Texas for <LH> origin. Thank you everyone for their help! @JeffBezos @HomeStreetBank @H1Unlimited',\n",
       " '@KellyHu hi babe  I dnt knw which audition you are up to  But i knw you’ll do great and get it 👍🏻 👍🏻 <LH> Hu',\n",
       " 'Listening to all Darshan songs @DarshanRavalDZ  u are born to shine like a superstar #my idol # roawstar <LH> #TeraZikr #DR 💖💖👌✌',\n",
       " '@sheets_haley My mom did none of this. <LH>',\n",
       " '@generalfranco - <LH> for the follow. Let the conversations, sharing and learning begin. Tell me more about you!',\n",
       " 'You know you’re full of yourself when you can’t stop looking at your nails <LH>',\n",
       " 'Happy anniversary to my lovely wife @shenac1 21 years. <LH> #loveoncelivelong <LH>',\n",
       " '@HateLiberals33 I simply hate your uneducated stupid ass. #equalrightsnow #Charlottesville #ANTITRUMPVMT <LH> #TrumpCrimeFamily #Resist',\n",
       " \"I've figured that we choose 12/4 to celebrate <LH> birthday cuz its exactly 7 days b4 the new yr & that makes sense\",\n",
       " \"The Happy Camper: 'alternate currency baskets, incl the Yuan, Rouble, & other currencies will eliminate the impact of futures trading' #Mad…\",\n",
       " 'I get to wear my full #leather suit tomorrow/Sat <LH> #goodtimes #bikelife',\n",
       " 'I want an u are buying😛Its chump money so get $ending <LH> <LH> #femdom @mike_mashall @rtdumb  @promo4KylieStar @rt_pig  @rtfindom',\n",
       " 'The so called \"constitutionalist\" are defending monuments to those who broke their oaths & fought to keep another race enslaved. <LH>',\n",
       " 'Life can be one hell of a minefield sometimes but never loose hope. Even that slight sliver of light can awaken something beautiful <LH>',\n",
       " 'She say to me #yungking can u make <LH> I say like never #B4',\n",
       " \"Where there is #faith, there's #hope. Where there is hope, there's #God's Grace...I'm just sayin'. #MyAmerica\",\n",
       " '\"You can have all the money in the world but without health, you\\'re broke.\" - Master P #Life <LH> <LH> <LH>',\n",
       " '@laztar11 @MarkYoungTruth Excellent catch! Obviously no longer a reliable source of News. <LH>',\n",
       " 'Hope everyone is enjoying what could be the last days on earth pre <LH> thats mutual assured destruction for those living in caves....',\n",
       " '\"If you are not willing to risk the usual, you will have to settle for the ordinary.\" <LH> <LH> <LH> <LH> <LH> #me - Jim Rohn',\n",
       " 'Alive and well. <LH>',\n",
       " '@FelicityHuffman @WilliamHMacy @SHO_Shameless I just binged the 7 years in 5 weeks @SHO_Shameless. #livedunderarock <LH> #season8 <LH>',\n",
       " 'When you find out your ex has been stalking you 😂🖕 <LH> #nothanks',\n",
       " 'First experience with @SelectSpecs and it will be my last. <LH>',\n",
       " 'Almost 5 hrs in the car now and still not even reached scotch corner 😩#roadworks #standstill #traffic #avoidA66! <LH> #nightmare 😡',\n",
       " '@KarenBarryDavi1 Yes Karen! But than I am <LH> to have family 😍🤣👍🏽🎶💋',\n",
       " 'I love you every step of the way. <LH> #LuxxeWhite',\n",
       " \"Gah!!!! Lunch with the #amazingboyfriend then off to <LH> with my girls! Gonna be awesome. (I'm the only straight one in the group)\",\n",
       " 'Missing my fam so much today <LH>',\n",
       " 'The Homeplate Club has a Mac and Cheese bar tonight. <LH> 😋😋😋',\n",
       " '\"A woman needs a man to smear her lipstick, not her mascara...\" #buster #boy <LH> #butt #iwant #her',\n",
       " '@SenJohnMcCain I once thought you were a man of integrity and honor. Now you vote to take away health coverage.That sir is cowardice <LH>',\n",
       " 'It’s finally happening! He’s becoming #BROKEN! But he’s not fully yet! <LH> #RAWKnoxville #WWE @WWE',\n",
       " '@NETTram So why is there one of your signs? <LH>',\n",
       " 'I mean, seriously? 5 essays, 5 reference letters, 10 documentations needed <LH> am I applying for a fellowship or running for president ?',\n",
       " 'Today is my day. 😂😂 <LH>',\n",
       " '@iamsrk I had heard that the title of #JHMS  was first given as #the ring.. So why this change of title?? Huge fan...#love u ..💐💗💕💕',\n",
       " '#Happynavratri to all. Now the <LH> season begins... Yipeee!!!',\n",
       " '@jknoxville @FoxNews @EWErickson @realDonaldTrump Maybe a few people will admit that she should have been there in the first place. <LH>',\n",
       " \"@bigjimmurray all I can think of Barkley's take on the @celtics  is <LH> Billy he's really down on them huh?\",\n",
       " \"Slipped on a rotisserie chicken skin that's been lying at the bus stop since yesterday. #onlyinsf <LH>\",\n",
       " '11 If you are #female, <LH> and over 20 DM me for potential #love. <LH> October 08, 2017 at 10:30AM',\n",
       " '@g_redux just fyi, presently doing solid #numbers stealing this #content. the check will be in the post',\n",
       " 'Omg! Just saw that @RitaOra is going on tour, I’m so excited I can’t wait to see her slay 👏#excited #Ritaora 😍',\n",
       " \"#PicklesLoveApples ♥♥♥ @AJsApplebooty #Pickles #Apples <LH> #AJApplegate :) Who doesn't? ! @RogerTPipe @XRentDVD @TheDickDangle - #BlueEyes\",\n",
       " 'Be grateful, never hateful. Let <LH> guide your thoughts at all times..',\n",
       " '@Deckie_juice Dracumming? <LH>',\n",
       " \"@nolanolegal You weren't invited? <LH>\",\n",
       " \"@MFelgate7 Is it a concern that Mrs Sharkie doesn't follow @TheSharkTweet s tips - on sat she got the quad & Mick got donuts ! <LH>\",\n",
       " 'Friends, 🍍🍍+ 🍤🍤🍤 tacos might be my new thannnggg 😍🙋🏻 #Tacos #EatRight <LH> #Yum',\n",
       " \"Steam Awards Nominations are up! And as always, all my love goes to all 'em indies I love ❤️💜💚 #GameDev #IndieDev <LH>\",\n",
       " '@foreverpensive #faith, #hope, and <LH> will last forever. The greatest is #love. 1 corinthians 13:13 <LH>',\n",
       " '@shadybrady224 @RunAcesPoker @shneim Cuz u misspelled #hungry.....',\n",
       " '@wraithgar ((ACTUALLY i did discover a twitter update waiting... so maybe my stop days are over. <LH> <LH> #MakeAWish))',\n",
       " \"Has anybody lost a blue iPod yesterday morning? Please ring us on 01948665914 and describe what case it's in! Retweet!!  <LH> #shropshire\",\n",
       " 'Wilt thou abandon me?  Never.  <LH>',\n",
       " '300 kids @JordanHS showed up at 6:20 AM, are you kidding me! You guys inspire me!  #youareokay <LH>',\n",
       " 'Wish someone could pay me loads of money for being a sound lad, I’m pretty <LH> like, just pay me 100K a yr',\n",
       " '73 The moments in your life are only once #Life <LH> <LH> <LH> <LH> <LH> <LH> <LH> July 22, 2017 at 03:00AM',\n",
       " 'Whoever approved the new hulu interface should find a new job <LH> #aweful <LH>',\n",
       " 'What would #medicine be like if humans laid eggs? <LH> #penguins',\n",
       " 'When you send £120 on bedding, crawl into bed and then realise it’s itchy as fuck ! 🙈😒 #straightoff <LH>',\n",
       " \"@CityofJoburgZA I'm not happy with the billing, the date due is on middle of the month. How can I change to end of the month? <LH>\",\n",
       " 'What a superb open evening tonight! Great atmosphere, fab families and a wonderful Crawshaw welcome from staff and students!\\r#proud #strive',\n",
       " \"I bought Tahini thinking it's an alternative to peanut butter   0/10 would not recommend <LH>\",\n",
       " '@christinebrownA <LH> #happyandrelieved Disappointed that you were not there. Happy and relieved your powers have not eroded.',\n",
       " 'At the end of the day, I am always <LH> that my blessings are greater than my problems.💖🙏  <LH>',\n",
       " 'Everything finally looking up. #Blessed. 🍃',\n",
       " 'Preparing my travel itinerary for my Taiwan trip is the hardest. Sooo many things to do (and food to eat lol) #solittletime <LH> 🌐',\n",
       " 'Love comes in many different forms  <LH> #Come #Form',\n",
       " '@KFC_India <LH> Ystrday I placd an ordr  & was chargd twce for same ordr. I made paymnt through PhonePe app. Need help plis respond.',\n",
       " 'Not lying about the 280 characters. I was definitely <LH> with them. My computer will not let me screen shot it, sorry haters #haters',\n",
       " 'I hate when people brag about a certain friend and ignore other people..#sad',\n",
       " 'These Last couple weeks ben good to a younging 🙏🏽 <LH> 💯💯',\n",
       " '<LH> no issa!  Not the neighbor!',\n",
       " 'Good morning word :)  Have a nice day !!  <LH> <LH>',\n",
       " '@MichelleBellish @WatkinsCHS I’m <LH> for you for keeping me sane!',\n",
       " '@JantaKaReporter <LH> Narendra Modi following this @$$¥@£€...  #GauriLakesh',\n",
       " \"Doubts Abound Conferring With #Flesh & Blood_Hearing from <LH> Clears #Confusion with It's Hesitation Producing Faith's Confident #Action\",\n",
       " '\"The world is headed into hell because the world disrespects womanhood.\"- #Farrakhan #Maria <LH> <LH> #Messiah #19',\n",
       " \"U15's are 42-3-20 at drinks. Lori Matthews and Amy Harris still at the crease. <LH> #livinonaprayer\",\n",
       " 'Everybody have dreams and goals but you have to be into it to really achieve them .Just be <LH> & #dedicated and mainly have <LH>',\n",
       " 'Extending a day @ Omma’land. 👏😄 <LH> #enjoyingtheday #funmomentsbusan',\n",
       " '@TaffiDollar preaching with her husband is such a beautiful site!,#love <LH> <LH>',\n",
       " '@J_D_Landis thanks for following <LH>',\n",
       " \"@foxandfriends speaking  #shame, I didn't know #McJane or many of current #535GreedyPeommtplemt56mm past #3to5Decades have any  #DamnImGood\",\n",
       " 'One of the humans left in a rush this morning. Something about a box. <LH> #cardboardbox',\n",
       " '.@ubuntu 16.04.3 LTS crashed again when I typed an URL into Google Chrome address bar <LH> not again 😿',\n",
       " 'Just saw a headline that read \"Affordable housing. Hard to find.\" Amen to that! 🙏🙏🙏 <LH> #movingonup #makeyourway #dontneedmuch',\n",
       " '@realDonaldTrump You do realize that\\'s the same as saying \"I know you are but what am I?\" #PeeWeeHerman #itsonlyfunnywhenhesaysit #Sad!',\n",
       " 'Co worker called in so I have to close..I dont want to.. 😭 <LH>',\n",
       " \"My novel is now in the hands of my agent, after undergoing major surgery. Just hoping it's strong enough to fly!  <LH> #writing <LH>\",\n",
       " 'Who makes a live countdown of fifty shades #killme #whatthefuck #FiftyShadesFreed <LH> <LH>',\n",
       " 'Alphaman in the making !🤙🏾 #prouddad <LH>',\n",
       " 'Listening to ambient music in my work station.  #FrontLines  #Work  <LH>  <LH>',\n",
       " '@GauravPandhi @ArvindKejriwal You are also one of them .. sick politician .. <LH> #DelhiSmog',\n",
       " \"<LH> so good to have #exclusivity with #someone special,no matter how <LH> and old,#watch this space,#Bae's coming #back!😉\",\n",
       " 'FT: #GIR 2-1 <LH> @realmadriden lost 3 more points means 8 points behind @FCBarcelona. #ViscaCatalunya  #GIRRMA #RMALive',\n",
       " 'No please keep singing into your Snapchat we all love it. <LH>',\n",
       " '<LH> accords you the #POWER to change any negative proclamation.   #battleofreports',\n",
       " \"When your really don't want to wake up😂😂😂 #lazy #wednesday <LH> <LH> <LH> #sun #bed #weliveforthemoment\",\n",
       " \"The Integrity of <LH> <LH> gives His believers certainty in their believing-they rest assured-they're accepted_blessed_loved_empowered!\",\n",
       " '@SydGolic Your eye lashes! Beautiful! <LH>',\n",
       " \"My timeline's about to become hella adult, 'cause it's time to tweet #Insecure!\",\n",
       " 'Somewhere in city I am feeling #Lonely, missing my #life <LH> life. #BeingMumbaikar',\n",
       " '@Soul_Burn_Slow God will deal with him. <LH>',\n",
       " 'There needs to be a completely separate lane for semis. <LH>',\n",
       " \"- SuBha Hoty He Sadka Dy DiYa -    '0wner_AssaD' - 'MUHABBAT' Ho Gi The KhowaB Me - TyPeD_bY \\xad(')__, \\xad(_////_, <LH> boY\",\n",
       " \"@UD_Spectrum @DaytonPrezSpina Wish I could've been there, thanks for your allyship @DaytonPrezSpina! <LH>\",\n",
       " 'They say, \"Time heals all wounds\" .. I think it\\'s LOVE, that heals all wounds 💗❤️💗 <LH> #heals',\n",
       " \"@DonnieWahlberg If you're lurking I just wanted to send you some <LH> & now its 3.25am I'm going to try & sleep. #SweetDreams  my lovely 💖💖\",\n",
       " 'Good Morning all, A very happy #movingday to all of those that are today!  <LH> <LH> #celebrate',\n",
       " 'Modules complete! Lunch prepped!  Prayers sent! Ready for an exciting week with my eagle family!! <LH> #welcomeback  @MRRVH @MaryRyan_LCSS',\n",
       " \"Don't think I've ever seen Tyron Smith get beat like that BTW... <LH>\",\n",
       " '<LH> & speedy recovery Wentz! Look forward to you returning stronger & #badder! God Bless 🤗 @cj_wentzcj_wentz',\n",
       " '@TruckFestival have sundara karma and I will be <LH>',\n",
       " 'Dating sucks until you find someone... I’m still looking. <LH>',\n",
       " '\"A new commandment I give to you, that you <LH> one another: just as I have loved you, you also are to love one another.\" John 13:34',\n",
       " '@poonam_mahajan Wish u a very hpy <LH> May this festival of lights bring health, wealth & prosperity in ur life. #Diwali2017 <LH>',\n",
       " \"I was having a phone convo in the office and said, 'oh Iv seen it, it was in my 'spam'...everyone raised their heads to look at me <LH>\",\n",
       " \"I don't think life can get any better. <LH>\",\n",
       " 'This evening I am <LH> for this evening. I am not owed an evening to spend with family and friends - it is the precious #gift of #God.',\n",
       " \"Life's been so good to me. I can't complain. I'm genuinely happy and feel blessed with everything I have. #Blessed💕\",\n",
       " 'Lol even all the college apartments smell like ramen noodles <LH>',\n",
       " 'Could it be that #mikehosking negativity is because @jacindaardern is everything he is not?? #young #vibrant #articulate #strong <LH> 🤔',\n",
       " \"Not feeling awesome today. Unsure if it's emotional or physical. Either way it's crummy. <LH> #lifewithbipolar #bipolar\",\n",
       " 'HappY birthday KingKhan... @iamsrk  #Inspiration <LH>',\n",
       " \"If you're gonna fast, fast & pray.  Fasting without prayer is just starving.-Pas. Esther Asonobi @ShekinahICA #pretty&powerful\",\n",
       " '@libbycwatson Always here for Digby <LH>',\n",
       " 'I dreamed that a personified gator and python joined forces to take down the trump administration #SweetDreams #trump #GatorGetDown <LH> 🙌',\n",
       " 'Rushed my ass to get to my class, and I walk in to my professor having the dodger game playing <LH> 😭',\n",
       " '<LH> for the Phylary friendship @malyoung is building #yr 👍🏻',\n",
       " '@garyhgoodridge Intelligent people #love.',\n",
       " '<LH> today in the midst of many, many challenges. <LH>',\n",
       " 'You like it, I love it.  #insecure.',\n",
       " '<LH> #draws the #elect by His #efficacious #Sovereign #grace, His #HolySpirit, His #gospel, and #theimplantedword. John6:44-63; James1:16-22',\n",
       " 'Enjoy the journey..You’re chosen..You’re amazing..#covenant #purpose #destiny <LH> #assignment <LH> you',\n",
       " '@YungKingTosa She looks hella <LH> instead of being in the #studio. #JustSaying',\n",
       " \"A tense hostage situation, I'm the in-between. My friends are the hostage takers but my friends are also the negotiators. <LH>\",\n",
       " \"@alhajitekno I believe it's my turn today. <LH>\",\n",
       " 'OMG how good were @RakSuMusic doing that version of #GeorgeMichael <LH> 🎶Lyrical geniuses #XFactor',\n",
       " \"I'm just as mad at my own people as I'm mad at the system and people that oppress them. Weak creatures but riddled with gangstas. <LH>\",\n",
       " \"It's a fucking drought 🍂😤#MAD\",\n",
       " 'Looking at a flier from Spectrum to see if there is a better cable deal than my current one with WOW.Makes my head spin. <LH> <LH>',\n",
       " \"Bitches will wear no bra on national no bra day, but would mad dog me when I didn't wear one in high school <LH>\",\n",
       " \"tried to collect my tickets at the station n didn't think they had printed, seeked assistance n then they appear   I am <LH>\",\n",
       " 'WatchMojo France HACKED !!! |  <LH>  😰',\n",
       " 'Pink haired dude you are killing it! #bbcproms <LH> #jazz',\n",
       " '@EthanDolan Pleasseeeeeeee????   Ughhhhh.   <LH>   #Please   #FollowMeEthan   #EthanDolanFollowSpree',\n",
       " 'He will not let your foot be moved; he who keeps you will not slumber. -Psalm 121:3 #trusinGod <LH>',\n",
       " '@nickmara you would <LH> much make my day if i could get a follow hehe',\n",
       " '@pattymo and we never saw the #Pivot. <LH>',\n",
       " 'Closed Sell 2.3 Lots EURUSD 1.19063 for +11.1 pips, total for today +161.5 pips <LH> <LH> <LH> <LH> <LH>',\n",
       " 'Never in my entire life have I been so emotional about a bunch of teenagers moving out <LH> #idontwannaleave',\n",
       " '<LH> is your best choice. Do be the one who is the most positive among your friends. #easiestway #WAHM',\n",
       " '@CNNPolitics What a foolish foolish man. <LH>',\n",
       " '@SteveKingIA says #DACA recipents \"came here to \"live in the shadows,\" and they are free to \"live in the shadows.\" <LH> #Resist #EndRacism',\n",
       " \"The Yr 10's put in a battling team display to run out narrow 3-2 winners v South Wigston. Well done lads! <LH> #teamwigston #winners 👍🏻⚽️🏆\",\n",
       " 'Brooklyn & Manhattan this weekend. Philadelphia next week Hillsong church Sundays <LH>',\n",
       " 'Nothing more disappointing than finding out that he pins being served at the end of #yorks10mile is non-alcoholic. <LH>',\n",
       " '@KatColeATL Love is truly a great thing 👼👼👼 Continue to change the world through your blessed marriage & family <LH>',\n",
       " 'Being a <LH> <LH> is not what JESUS Messiah taught #us to be. I <LH> that I will be a #humble #Christian.',\n",
       " '#somethingaboutmegan jst caught up well done 👧 #No1 ❤ tears in my eyes wen u sang #fieldsofgold 4 your grandad <LH>',\n",
       " 'I am the light of pure love. May it shine through today and everyday. #h3wisdom #light <LH> <LH>',\n",
       " 'Thank the most high for the day <LH>',\n",
       " \"@AllieEm120 @shoots_smolders Most normal ppl feel that way, ones with compassion. I'm amazed at the ruthlessness of some Nascar fans. <LH>\",\n",
       " '@wfdavis_ Yes, <LH> please allow my #twin to forgive me for my sins. Reconciliation is the goal!',\n",
       " '@LenaStarrXXX That is an <LH> post!',\n",
       " \"@Lionesses You've got this!! Stay strong, head strong!!! Team work. And you can pull this back. <LH>\",\n",
       " '@khushsundar #mam next film @Suriya_offl sir opam oru #padam #panugeeeeeee #mam #iam waiting #maranaaa <LH> #mam plzzzzzzs',\n",
       " 'Daylight Savings Time Ends TONIGHT! Yes 1 hr extra #sleep before church tomorrow! Sooo #grateful!! #DaylightSavings',\n",
       " '[Exodus 15:26] 👑“ I am the LORD, who heals you.”  <LH> #questions #KeepItReal #noproblem #healing <LH> <LH> #soul #touchme #deliverance',\n",
       " '@shelveyJs what were you thinking this afternoon, even in frustration there was no point. #stampitout #costthegame <LH>',\n",
       " \"I got Plans Major Plans you just don't know!Difference I'm gonna do whatever it's takes to make it happen! #Patience <LH> Now Back to It\",\n",
       " 'after being in the hospital for over a month I get to go home Monday there is light at the end of the tunnel <LH>',\n",
       " 'To everyone who went live from Fenway, I am <LH> for you! Thx for sharing that amazing experience! #bhlove4life #NKOTBFenway',\n",
       " '@AgendaOfEvil @seanhannity <LH> <LH> Is A Global Problem, Not Middle East Problem',\n",
       " '#BB11 #BiggBoss11 If #HinaKhan this is how you welcome guest in your house also? You have shown ur class when #DhinchakPooja entered <LH>',\n",
       " 'Got myself a @KelloggsUK advent calendar! #DecemberTheFirst #Advent #24Bowls <LH> #Cocoselfie',\n",
       " '@JesseLehrich <LH> and he made it 44 seconds hmm 😒 #shameful',\n",
       " '72 The moments in your life are only once #Life <LH> <LH> <LH> <LH> <LH> <LH> <LH> November 19, 2017 at 12:45PM',\n",
       " '- 1 billion. Recoup with <LH> <LH> <LH>',\n",
       " 'When I tell u I stepped out on #Faith...Ooooh! Boy! Yes!..God!🙌🏽🙏🏽',\n",
       " '@BruceVH \"And whoever relies upon Allah - then He is sufficient for him.\" [The Noble Qur\\'an 65:3] #Napoli #Higuain #SportingCP #Burma <LH>',\n",
       " '&lt;upload&gt; hot pic \"selfie\" for @itsDaveEdwards <LH> #obsessed &lt;ENTER&gt;',\n",
       " 'Requiem For a Dream is friggen weird and fuctt. <LH>',\n",
       " 'So when does it take over 10 minutes waiting after ordering  drivethru @McDonalds video to prove it. #moneyback <LH> #getwithit',\n",
       " 'Feeling better then i ever did! <LH> <LH> #PiperGang',\n",
       " 'Besseus!! Thank you ng maramii! <LH> 😇💕 @jopotatohoran @FrncnKateTagala',\n",
       " '@PovvyL15 @sandy45_46 most are bots some just <LH>',\n",
       " 'so <LH> that billy and i continue to meet good people everywhere we go',\n",
       " '@KeithUrban singing this stripped down version of <LH> just may be my FAV 💙💙💙💙',\n",
       " 'so many good memories were made this summer <LH>',\n",
       " 'half way of jumaat and so far so good 😭😍 <LH>',\n",
       " '@jacquelyn17__ bro easy A <LH>',\n",
       " 'Excellent planning meeting @JeelyPieceClub @JeelyActivePlay this morn #activeplay #playchamps starts next week #PEF #partners 👏🏼😃❤️ <LH>',\n",
       " '@49637866b83a42d @Lisa_Chemberlin @prince @prince19582016 I love em 2. #artful <LH> Full of #Love4ONEAnother 💜💜💜💜💜💜💜💜💜💜💜💜💜💜💜💜💜💜💜💜💜',\n",
       " 'Be Free and Purposeful. #XW #Write <LH> #Hawaii',\n",
       " '#GotGVol2 #congrats Peter correct choice He was fake #btw real <LH> invisible in this life He unstoppable indestructible can grow infinitely',\n",
       " '#IBrokeMy fingers writing for you Because I knew you would sacrafice too #mondaymorning <LH> #mondaymotivation <LH>',\n",
       " 'My niece could not get any more perfect 😍😍😍😍❤️❤️❤️❤️ <LH>',\n",
       " \"@KellyOsbourne Don't miss@vuliwear <LH> <LH> <LH> <LH> <LH> <LH> <LH> <LH> <LH> <LH> #eyewear🐝🦋🐞\",\n",
       " '<LH> Offer $59 USD unstitched + 9.9 USD ship. Stitched 70 USD + 9.9 USD ship. #USA CANADA AUSTRALIA.',\n",
       " \"Don't join in the fear-mongering <LH> #FullRepeal #Obamacare #Fraud #Racketeering\",\n",
       " '<LH> <LH> #Life \"It is the weight, not numbers of experiments that is to be regarded.\" - Isaac Newton',\n",
       " '#NFLNETWORK...#ASSHOLES...#WTF...Y YOU CANCEL MY SEAHAWK CHARGER GAME? I PURCHASED YOUR CHANNEL AND YOU FUCK ME OUT OF MY GAME? @nflnetwork',\n",
       " \"@spacedogsradio I'm privileged to watch this endless creativity from 400km above Dergachi, Russian Federation <LH>\",\n",
       " 'I hate this feeling. <LH>',\n",
       " '<LH> visions comes to reality!   Just practical -🙂',\n",
       " 'But before all the excitement of @WomanInWhiteUK tonight. Let’s get Jack and his Beanstalk into @NewWimbTheatre. <LH> #pantotime.',\n",
       " 'Once upon a time, you were the key to my heart. - Y.A  #key <LH> #heard #spilledthoughts',\n",
       " '@Airport_FRA what’s up terminal A at security gate? Any comments? #ugeline <LH>',\n",
       " 'Matthew 26:28 KJV For this is my blood of the new testament, which is shed for many for the remission of sins. Power in the blood of <LH>',\n",
       " 'Pray for Vegas. #vegas <LH>',\n",
       " \"Don't become so <LH> with #catching a #moment that you fail to be in the moment. We only get so many days on this #planet <LH> them!\",\n",
       " '2 days to go! <LH> #CannotWait #Challenge #Bringiton #WorldRecord #100hrs #SnookerMarathon',\n",
       " 'You mean to tell me that everyone is corrupt! #SessionsHearing <LH>',\n",
       " '#Curious: What are the things you miss most about being single?',\n",
       " \"God blessed with the gift of not having fear I'm <LH> 👳🏽🙏🏽\",\n",
       " \"@yunghastrup @ChelseaFC Why? Who else sud come?  It's normal we lose games bro <LH>\",\n",
       " '37 Never give up on your #dream. <LH> me to make your dreams come <LH> <LH> November 07, 2017 at 11:31PM',\n",
       " '@joemac2911 Like Corporate America, perhaps they ding their salaries based on performance! <LH>',\n",
       " 'Cloud Mountain bound for #silentretreat w/ DaeJa Napier. 💕 #Vipassana #BrahmaViharas #equanimity <LH> #lovingkindness <LH> #deepdive',\n",
       " \"@alhajitekno I'f it's thy will thatvi get blessed, let it be done <LH>\",\n",
       " \"@AdamAtchison @KristenCurrieTV @CgutierrezTV Yes sir! Good luck to you guys! I never made it to 100 at Jack Quinn's <LH>\",\n",
       " '#Likes are the new #ratings #BlackMirror #worldstage #usa <LH> #jesushelp',\n",
       " '@StephenKing Can it be both a <LH> & a <LH> that your sons are chips off the #WritersBlock?',\n",
       " 'Dr Boyce Watkins stay hating on successful blacks in entertainment 😭😂😭😂 <LH>',\n",
       " '“Whatever the #mind can conceive and #believe, the #mind can #achieve.” -- #Napoleon Hill',\n",
       " 'I spend a lot of nights thinking. How did I make it this far. I spend money every chance I get. Cause God damn I work hard. <LH>',\n",
       " 'Broken hearts write the most beautiful yet the saddest lines.  <LH> <LH> <LH> #Pakistan #ParsiNewYear <LH> #winter #snow <LH>',\n",
       " '@OyeokaJ #faith, #hope, and <LH> will last forever. The greatest is #love. 1 corinthians 13:13 <LH>',\n",
       " \"Life goes on, so don't waste your time worrying about your mistakes. <LH> <LH> <LH>\",\n",
       " 'watching unsolved mysteries videos on youtube early in the morning <LH> #unsolved #mysteries',\n",
       " 'In Him we #lived in Him we #moved in Him we have our #Faith...',\n",
       " 'I could do this more often! <LH>',\n",
       " '@coldplay I really wanted  to go to the show here in Brazil, but I have no money ): <LH> #Poor #NoCash #SadReality #DreamItIsOver #Coldplay',\n",
       " 'Use #aachari condom before she craves for aachar later. #ifyouknowyouknow <LH>',\n",
       " 'When you see a picture in your gallery and think \"that\\'s such a nice picture\" Then remember you\\'re the artist <LH>',\n",
       " 'My path is different <LH>',\n",
       " \"Grace is Divine Empowerment. It's supernatural. It's not about us. That's good news!! <LH>\",\n",
       " 'Dear @realDonaldTrump you are a spineless #chicken for not condemning the #WhiteNationalists you should be ashamed. <LH>',\n",
       " \"@PicMonkey is the site down? Why can't I edit photos anymore? The edit photo button on the homepage goes nowhere. <LH>\",\n",
       " '#Grow in the #knowledge of <LH> by #concentrating on your <LH> with Him. (#Philippians 3:13-14)  #NextLevel #Levelup   ~T-Wills~ ✌🏾',\n",
       " 'Why do kids stare at your food, so <LH> when they\\'re not fam & u can\\'t just say \"piss off, go tell ur mum 2 make u some food\"',\n",
       " 'New Couch, Big Ass Fish Tank, & My Own Studio Set 😈🤞🏽 <LH>',\n",
       " '@DVSWhatItTweets @NBAonTNT @StephenCurry30 @Bowen12 😂😂😂😂you sound like you need a #safespace <LH>',\n",
       " \"I'm lying my bed.crying my eyes out.It's all hopeless.I'm hopeless.  <LH> <LH>  #borderlinepersonalitydisorder #anorexia #bulimia\",\n",
       " 'My inner 10 yr Old is freaking out right now #holdmyhandfortheopen #cmaawards2017 <LH> 🙌🏻🙌🏻🙌🏻',\n",
       " 'Hour and a half into @AFLFootyShow and no sign of Dave Hughes. <LH> #GreatEpisode #WellDoneEd #aflfootyshow',\n",
       " '#TheUndateables make it look so easy!! #nocares <LH> #innocent #seemssolovely',\n",
       " 'Another great day at school!!!! <LH>',\n",
       " '@realDonaldTrump You are a #asshole! Because of you Mexico, Germany and Australia look at us with #disgust!',\n",
       " \"I'm always thankful to be #Canadian. Today, it's for having #Space channel, who will broadcast EVERY episode of #StarTrekDiscovery. <LH>\",\n",
       " \"I Am watching this Fight...it's making me super nervous. I am routing for Mayweather <LH>\",\n",
       " '@VegfestUK tickets ordered for London <LH> vegan',\n",
       " 'To Iain and @BlueRoseCode I am <LH> 😉',\n",
       " 'Seeking a #Seamstress for an upcoming <LH> brand Get at me if you are a #fashionlover & <LH> 🤗 #ukbrand #intern',\n",
       " 'Been awake for 31 hrs now <LH>',\n",
       " 'Whole body sore 😩😩 <LH>',\n",
       " 'One week down. Only 9 more till I get into a classroom. <LH> #teacherscollege',\n",
       " '@politico @SenJohnMcCain you are his subordinate. Your vote today made that clear. <LH> <LH>',\n",
       " \"Fave Songs From #Thankful:  1. Anytime 2. Just Missed The Train 3. What's Up Lonely\",\n",
       " 'Getting bigger N better <LH>',\n",
       " 'Just dropped my phone off the top of an escalator and it didn’t even crack <LH> <LH>',\n",
       " 'God is really really really really really really good. 😊 <LH>',\n",
       " 'Trial today 💯 <LH>',\n",
       " 'When a white person approaches you talking in fucked up Spanish thinking you don’t speak English! <LH> seriously don’t do that 🙄😳',\n",
       " 'Blue Planet is on.. love it 👌 <LH> <LH> #beenwaitingalldayforthis',\n",
       " 'I feel bad for issa but im deff <LH> <LH>',\n",
       " '@MarillionOnline Absolutely killing it... Out of this world #Marillion <LH> #FuckEveryoneAndRun',\n",
       " 'I wss wondering how long it would take before we got a troll in our HA! Room.  <LH> #ourfavesareproblematic #weknow',\n",
       " 'I might be the only Palestinian who does not like Knafeh <LH>',\n",
       " 'HIDING IN PLAIN SIGHT? Love? Appreciation? Possibility? Hope? What can you find today? #Life <LH>',\n",
       " 'Good Afternoon!  <LH> Monday!  #GoodAfternoon <LH> #health <LH>',\n",
       " 'Is it irony that @SenJohnMcCain returned from sick leave for his cancer treatment specifically to vote to destroy healthcare? <LH>',\n",
       " '@KSettlesHorejsi Wait... you had beignets????????   <LH>',\n",
       " 'The #government of these #United States has got out of hand they are the #swamp and #change is #needed.',\n",
       " \"Lolol whenever anyone talks to me I'm doing hand movements which emphasise my nails 😂😂 #notsorry #acrylics #nails <LH> #slay #fierce\",\n",
       " \"If the plan doesn't work, change the plan. NEVER the goal. #motivation #change <LH> #startup <LH> #success <LH>\",\n",
       " 'Tips tonight <LH> @myracingtips',\n",
       " \"I'm not perfect & I fuck up too... but everyday I really on the beautiful people who connect to me #cloudsilverlining #always <LH> 🦄💓\",\n",
       " '@arnieroman1 @fritchee @ASlavitt <LH> big baby IMAGINE THE HISTORY BOOKS!',\n",
       " 'Time will pass away,but my word will not pass away..#God',\n",
       " \"<LH> <LH> my only relationship goal is to be with someone who motivates me to become a better person and show me the potential I don't …\",\n",
       " 'School @gcu completed just now!!!!!✅👩🏼\\u200d🎓🎉🎉🥂🥂💚 #proudmoment #bsn #nursing <LH> #education <LH> #completed <LH> The End....',\n",
       " 'It is easier to be <LH> when you are not surrounded by the confusion and the clutter of life David Baird  #mindset <LH> #mindfulness',\n",
       " '@SantiagoAD53 @HollyJMitchell Please #vote <LH> #HR669 #S200 to prevent #Trump from launching a nuclear missile without approval of congress',\n",
       " 'In love with @leslieodomjr voice. <LH> #trulytalented #addicted',\n",
       " '<LH> to have @bux0m_s0rceress and @IHateToKillYou   Miss you two, gonna show you so many dog photos when I get back up to the toon',\n",
       " \"Which was extra classy because my hair looks like a rat's nest and I'm wearing what I slept in. <LH>\",\n",
       " \"I just realized that I've been single for two years... which means I'm two years closer to meeting the woman of my dreams! #myasu <LH>\",\n",
       " '@alyzahcastro the grass in his teeth💀 <LH>',\n",
       " 'One step closer to @SynchronizeFest with @izzakhaleeda <LH> #life <LH> #eat <LH> <LH> <LH> #is #my #life',\n",
       " 'Power finally back on!!!! <LH>',\n",
       " 'Inspirational speakers today <LH> #Enthused!',\n",
       " 'A gentleman & his lady love each other more than anything on earth :) <LH> #caring #smileisforunk #nomisunderstanding #togather #life',\n",
       " \"@TambriaJai 😂😂😂😂😊😂😂 that's a major fact <LH>\",\n",
       " 'Fellow #Jews - how can you take <LH> in your #Jewishness yet shame #whitepeople who takes <LH> in their #race!',\n",
       " 'The life is <LH> 💙 #ALFAISALY  #حقنا_بأمان_في_عهد_سلمان',\n",
       " '#Founder @MargBernstein & @AlexaVsings song <LH> being recorded today w/ @barbmorrison @rightanglerec 4 #antibullying tour @ArtistOneTour',\n",
       " '@KrpProperties We are super <LH> to be offering this in #kanatanorth.',\n",
       " '@AlBernstein You guys did a great job @AlBernstein I went back and watched the replay ... <LH>',\n",
       " '@GregAbbott_TX @NRA How you feeling now? <LH> #SutherlandSprings',\n",
       " '\"The mirror is the worst judge of true beauty\"  <LH> <LH> <LH> #MondayMotivation',\n",
       " \"@Evan_McMullin He is nobody's president <LH> SHAME SHAME\",\n",
       " 'Big congrats to @CoryHighfield16 for finishing his junior career with a #MintoCup <LH> @OfficialArrows got a real good player #betterguy',\n",
       " 'Sorry I’ve been away so long but now the former #Dom turned <LH> #Submissive <LH> is back',\n",
       " \"It's a sad day when religious leaders ban together to be a hate GANG! Thank you @NALTChristians for outshining #NashvilleStatement in #LOVE!\",\n",
       " 'God Thank you for the successful of #AidForHumanity today Worldwide lingap mamamayan Proud to be Iglesia Ni Cristo 🇮🇪 <LH>',\n",
       " '76 The moments in your life are only once #Life <LH> <LH> <LH> <LH> <LH> <LH> <LH> November 20, 2017 at 05:45PM',\n",
       " '👉👉 All things are Possible.🙌🙌🙋  in God..💞💞  #believe@havefaith.... — listening to Music',\n",
       " 'Is your slackline arriving in the mail a good enough excuse to take the day off work? <LH> #kidatchristmas',\n",
       " \"Nigga it's a dream <LH>\",\n",
       " 'Having a sister is like having a friend and having a friend is having you <LH> my sis',\n",
       " '<LH> - Justice, righteousness & peace shall REIGN in our nation in Jesus Name 🙏🏾#NigeriaAt57 @RCCGCityofDavid #CODThanksgivingService',\n",
       " 'This summer has been hella lit I swear my life is like a movie <LH>',\n",
       " 'Confused on why I️ have to take an exam written by a professor who doesn’t teach the class <LH> #finals',\n",
       " '@Hookemcougs Been up since 2am <LH> going on 2 hours sleep',\n",
       " '@ReillocNaes @The4GNet @MadWorldNews giving away free pussy and nobody took her up on the offer! I don’t care how <LH> she was.',\n",
       " 'Closed Buy 2.1 Lots EURUSD 1.19465 for +19.4 pips, total for today +393.7 pips <LH> <LH> <LH> <LH> <LH>',\n",
       " 'U can’t even write the word Monster in ur @YTCreators video without them getting all scared about upsetting their @YTAdvertisers. <LH>',\n",
       " 'Why do people even say they will do something if they have no intentions of doing it? <LH>',\n",
       " '@TheView I take my meds!! 😲 people please..take as prescribed an keep yourself surrounded bt #teamyou peole! <LH> 👍😃',\n",
       " 'Metafit Workout <LH> #fullbodyworkout #results #WIPEOUT',\n",
       " '@dmexco #gr8 #event on <LH> #Lovedit. <LH> work put by #Dmexco2017 #team. #Gr8 inputs for @perktoken #projet',\n",
       " 'You always get tested the most before you progress to the next level. Stay positive and have a #faith.',\n",
       " '74 The moments in your life are only once #Life <LH> <LH> <LH> <LH> <LH> <LH> <LH> October 22, 2017 at 03:15PM',\n",
       " '@Rebecca__Quinn So am I <LH>',\n",
       " 'Today Has Been Amazing <LH> 🙏🏾',\n",
       " '<LH> <LH> #faketweets: It was wonderful to have President Petro Poroshenko of Ukraine with us in New York City today. #UNGA 🎥… …',\n",
       " 'Feels weird that #IngridGoesWest is just now coming out. Saw it weeks ago.😎⛱🌤 <LH> #IAmIngrid @NEONrated @ingridgoeswest @evilhag',\n",
       " 'Closed Sell 1.0 Lots EURUSD 1.16095 for +25.3 pips, total for today +915.6 pips <LH> <LH> <LH> <LH> <LH>',\n",
       " '100 billion failures disappear. <LH>',\n",
       " '@Pink I love you! You are my favorite!!! You have saved my life many times!!! 😘❤️ #pink #aleciamoore <LH> <LH> #Awareness',\n",
       " 'Strong people stand up for themselves, but stronger people stand up for others. <LH> <LH> <LH> <LH> #life',\n",
       " '@FWBluesFan You are <LH>',\n",
       " \"I'm going as college loans for Halloween. <LH>\",\n",
       " \"wish there's someone nice enough to share vlive id lol😂😭😭 #EXOTOURGRAM <LH> #TheWar #엑소 <LH> #brokefangirl\",\n",
       " '@ANA_JIMENEZ4 Thanks  for everything!! We are number 1 ! #TEAM WORK!! #PROUD!!!',\n",
       " 'Facebook snapchat et instagram <LH>',\n",
       " 'Like and share if you think it`s fantastic!  <LH> <LH>',\n",
       " \"Lebron, you got this bro. It's not about how you start, it's about how you finish!! <LH> #eyesontheprize @KingJames @NBA\",\n",
       " 'I see you with them traveling snaps !!! @JULIOSHOCKS  <LH>',\n",
       " '@ShadowWhisper56 #faith, #hope, and <LH> will last forever. The greatest is #love. 1 corinthians 13:13 <LH>',\n",
       " 'When one ruins it for all #disappointing <LH> #ifeelcheated #disbelief #shock #nowords',\n",
       " 'Raise and shine to being <LH> every day. <LH> <LH>',\n",
       " '@CameronMoreland <LH> for fall',\n",
       " '@thehill @SenateMajLdr what goes around comes around <LH> #cnn #msnbc #FoxNews #Vote2018',\n",
       " 'My boo @whoisLukejames 👏🏾😍🙌🏾#Insecure',\n",
       " 'Day 3 - more #AntibioticGuardian pledges <LH> #colleagues @Bucksuninurses @BucksSocHealth @BucksNewUni #KeepAntibioticsWorking',\n",
       " 'Come thru @IssaRae <LH> I been waiting on this all week 😭',\n",
       " \"Don't worry it's just a revolution and there's more of us than them  <LH> is still laughing  #MAGA 🇺🇸🇮🇱\",\n",
       " 'Are you even a real cyclone if you can’t convince my boss to give me a holiday? <LH> #CycloneOckhi #Mumbai',\n",
       " '@LaSmoove_ True true. Without Jesus I would be totally lost 🙏🏾✝#faith <LH> #PastorChris <LH> #saved',\n",
       " '@skullcandy i need an earpads ! <LH> #earpads #shitty #skullcandy #CC',\n",
       " '@FCHWPO thank you man. <LH> #JB7',\n",
       " '@MostRequestLive play <LH> by @FifthHarmony Please <LH>   <LH> Fifth Harmony',\n",
       " 'Good morning everyone ! Have a great day,remember to stay positive and work hard. Achieve your goals <LH> #MondayMotivation #greatness',\n",
       " 'RIP Miiverse, I will miss the crude images that appeared in Smash Bros for Wii U. <LH> #Nomoreshitposting',\n",
       " \"I can't help being a creeper. Lol. <LH>\",\n",
       " '@Christo15023004 #faith, #hope, and <LH> will last forever. The greatest is #love. 1 corinthians 13:13 <LH>',\n",
       " \"Just after @Jared_Carrabis talking about how much CB Bucknor sucks on @Starting9, he's umpiring Sox-Yankees this weekend! <LH>\",\n",
       " 'You are not a drop in the ocean. You are the entire ocean in a drop. - Rumi <LH>  #Leadership #Safety <LH> <LH>',\n",
       " '<LH> <LH> <LH> Arvegil beckons and herbstosaurus baffles Pontus sings a melancholy strain \"BlackPlanet, where is my consomme en tasse?\"',\n",
       " 'Coming to terms with myself and the inside and the outside👏😊💪 <LH>',\n",
       " \"With <LH> you're prepared & never scared\",\n",
       " '\"Raspberry Pi cookbook for python programmers\", @PacktPub is that, cooking python\\'s or raspberry pie\\'s? or cooking programmers #Confused.',\n",
       " '@Dieu_m_Aime @Hey_Theist \"Let the little children come to me\" <LH> said.  ...so did the priests.',\n",
       " 'There is only 9% ppl paying Tax and most of those are poor /middleClass while elite class don’t pay any Tax. <LH>',\n",
       " 'And I thoroughly look forward to tomorrow. <LH>',\n",
       " '@MaryLSchmidt u are <LH>  thank you',\n",
       " '@npgnapoli @FairfieldSuisun Congrats! That’s #awesome!',\n",
       " \"Discovered a NEW weight loss plan, can't eat due to a bad tooth!! Need a #Dentist but #NoInsurance  😕 #America <LH>\",\n",
       " 'I have such <LH> followers..just like  @chriscash70718  thank you',\n",
       " '@RedRed_Rob I feel so <LH>',\n",
       " 'Graduates & authors of #OMGWACA @EmerTheScreamer & @SarahJayBee will give a guest lecture at 10am rm 103 media building all welcome <LH>',\n",
       " '@davidcoverdale I avoid kale, mustard, collars altogether <LH>',\n",
       " '@SenWarren @SenateGOP Thank you! <LH> for your clarity and effort. Listening to @alfranken now.',\n",
       " 'All of my tweets this morning started with \"#love this\" totally not planned. Guess I\\'m in a love kinda mood. 💓🤷🏻\\u200d♀️',\n",
       " \"I can't wait to have a job again.... this jobless shit is annoying <LH>\",\n",
       " 'COLDPLAY is playing at Soldier Field and I just heard Chris Martin say \"thank you.\" <LH>',\n",
       " 'Public bathrooms should play loud music. #justathought <LH>',\n",
       " 'Hey Patti Warren thanks for following! Let me know if there is anything I can do to help in your <LH> or #weightloss journey! #godbless',\n",
       " 'School NOOOOOO #school #no <LH>',\n",
       " 'Know the difference. \"There are some things you learn best in calm, and some in storm.\" Willa Cather <LH>',\n",
       " '#prayingforpuertorico my #island stay <LH> and may #godbless all my <LH> and <LH> there 💯🙏🙏🙏🙏🙏🙏🙏🙏🇵🇷',\n",
       " 'Todays stream was amazing! Thank you all for beeing there and cheering us up! Last night before i fly to the @gamescom gn8 <LH>',\n",
       " '@realDonaldTrump You are an <LH> #orange #coward #ETTD',\n",
       " 'Closed Sell 1.4 Lots EURUSD 1.1748 for +11.0 pips, total for today +334.2 pips <LH> <LH> <LH> <LH> <LH>',\n",
       " 'Chester Bennington from Linkin Park finished his life ... what the fuck is going on !!!! No no no!!!!! <LH> <LH> #rip #nonono #Ches',\n",
       " 'When I was young, I used to admire intelligent people; as I grow older, I admire <LH> people.',\n",
       " \"Finally sub to someone on both gamewisp and twitch thinking I'm the first to do it come to find out I'm not <LH>\",\n",
       " 'Closed Buy 1.0 Lots EURUSD 1.17777 for +26.4 pips, total for today +942.0 pips <LH> <LH> <LH> <LH> <LH>',\n",
       " 'A new day! <LH>',\n",
       " '@Iromg WHITE WINE WITH PASTA ?  <LH>  #Porkyism',\n",
       " 'I just do not know what to #WRITE Its all a little to #MUCH I thought we would become better to each other ! Keep the <LH>',\n",
       " '<LH> trump, u asshole, can u hear it, we the ppl want free health care, free schooling, lower taxes & no fuking wars',\n",
       " 'Just got tickets to see the amazing Frankie Valli at the O2 next year <LH> <LH> #sherry',\n",
       " \"She's With Me 🎶 got me through my workout today 💁🏼 I'm obsessed 😍 @HIGHVALLEY #ShesWithMe <LH> <LH> #OnRepeat\",\n",
       " \"Yes, I'm a mess but I'm blessed to be stuck with you. <LH> #danielcaesar\",\n",
       " '<LH> birthday to our #Captain @DonnieWahlberg @NKOTB, The best showman in the business! ❤️❤️❤️#loveeternal',\n",
       " 'Citizen of Zen Tee on @Bonfire Get yours today! Limited time offer. 5 amazing colors available. A <LH> mind yields #powerful results.',\n",
       " 'I need to do things outside of this apartment. <LH> #texaslife',\n",
       " 'Feeling blessed by this beautiful day. <LH>',\n",
       " 'Another vacay spotted <LH>',\n",
       " \"Grateful to be a <LH>  That i don't work for anyone. God is my boss.............. I work to serve his people!  #NationalBossDay\",\n",
       " \"I think there's no denying that my parents are some of the best going around and for that I truly feel <LH> 💛💛\",\n",
       " 'REAL #Niggas GONE HOLD YOU <LH> AND STICK WITH YOU THRU WHATEVER 💯💯💯',\n",
       " '@Sentletse what happened to concept65 <LH>',\n",
       " '<LH> and <LH> to @Beerded_One <LH> <LH>',\n",
       " '<LH> Isfahan',\n",
       " 'Relationship Goals, Sagada Trip #SagadaTrip <LH> <LH> #trip parang #ALDUBLangAyosNa <LH> #vinuel13 #minsanlangwagnaepal',\n",
       " \"I've been focusing on the positives in life & I've never felt better 😍 <LH>\",\n",
       " 'Problem fixed again. Thank You Very Much for the trust and for having no change on how you look at me. Thank God!  <LH>',\n",
       " 'Every story has an end. But in life, every ending is just a new beginning.  <LH> <LH> <LH> #Pakistan #girls #SirfNawaz #NawazSharif',\n",
       " '@ghhshirley @verrit That would not prevent the average from being 23.  Are you new to math?   😂😂😂#dumb',\n",
       " 'Debt, loss and a 💔 Trying to ride the ⛈  <LH>',\n",
       " '@mortendk Ckeditor 5.0.0-alpha-1 released on 09-10-2017 Drupal 8.4 released on 04-10-2017 <LH> ;-)',\n",
       " \"@LLacrosse 😍😍😍 have you tried yet? What did you think of #CoSpacesEdu? We'd <LH> feedback and example spaces if you've created yet 😊\",\n",
       " 'Beyonce - XO Lana del Rey - Love Troye Sivan - Wild Kimbra - Love In High Places Ok, playlist, I can take hint. 😂 <LH>',\n",
       " '@CaseyNeistat We would be happy if you come to visit us here!!Cambodia.#love #fan #',\n",
       " 'This cannot really be happening to Lawrence. 😒#Insecure',\n",
       " 'Crawling into bed at this time after spending the night doing Mold & District Reds work #dedicated <LH> #both #allforagoodcause #WrexhamAFC',\n",
       " '@shanmcskansky Yoo shawn!! <LH> #caturday',\n",
       " \"i just spent a lot of money on wifi to talk with @_cuntea and i think she's asleep now i'm <LH>\",\n",
       " \"So, the unfortunate Mike very humbly withdrew, and if you don't keep tracking info try to charge you hundreds of dollars <LH>\",\n",
       " 'Home sweet home!!! <LH> #MondayAfternoon☀️👍🏿😊',\n",
       " 'I’ve been called a little 3 times in the last two days.... I don’t know how I feel about this. <LH> #DontBelieveIt',\n",
       " 'The muscles in my body are clinching. <LH> #GoAstros',\n",
       " \"I'm watching Further Instructions. <LH>\",\n",
       " 'Lawrence dumb ass finna come back when the apartment is empty <LH> <LH>',\n",
       " \"Apparently getting promoted at my job doesn't not get you a higher salary <LH>\",\n",
       " 'TIP: Easy apply audio transitions in #premierepro with simple keyboard shortcuts <LH> #adobe #videoediting #proeditschool #fcpx',\n",
       " '@derick4Him But your \"reality\" show neglects the reality of sexual abuse. <LH>',\n",
       " 'Whats the point in having a leave with neighbour facility @DPD_UK   when for 2 days you ve failed to leave it!!!! <LH> #shiteservice',\n",
       " 'Immigrant Youth face mental health challenges too! <LH> Act #FFCMH2017',\n",
       " 'Property of #LOG table Learned tat #log(1/4) value and #log 4 are @equal ....but just sign reversed. #Cool!',\n",
       " 'Everyone please <LH> for me. Ain’t nothing wrong with me. I’m just low on #ranchdressing 😫',\n",
       " 'Hebrews 12:3 For consider him that endured such contradiction of sinners against himself, lest ye be wearied and faint in your minds. <LH>',\n",
       " '@gelinas_nancy @EldoradoPDSB Did that empower you as a learner? Did it impact your teaching? <LH> #millionquestions #PeelABC',\n",
       " '@amitvelo Flat tummy <LH>',\n",
       " 'Mums is unplugging for a bit #LifeLessons #UnpluggedNovember <LH> #justbreathe #CatsOfTwitter',\n",
       " \"@sjw_nonsense Agreed. I can say I don't want a punch to the face, shut on my hands, but can't say I don't want blood on my dick? <LH>\",\n",
       " 'Thank you, <LH>  angelsil50: @HighheelsDes @beachesbikes @geeanem @malekalby @crazycazsparkle @LipstickBarbie1 @interstinman You too b…',\n",
       " '@realDonaldTrump @VP Nice car. <LH>',\n",
       " '@SamSyron What does it say about me if I looked at the comics before I looked at that <LH> dick? Am I even still gay? 😱',\n",
       " 'SIGNS FOLLOW THE GOSPEL, IT HELPS PEOPLE BELIEVE OUR MESSAGE! <LH> is the message!',\n",
       " \"i guess i  should cuddle with any milk until she's waiting for  forever <LH>\",\n",
       " '<LH> for finding myself beautiful on pictures ~ delicious food ~ walking like crazy ~ laughing so much ~ the water (sea, river) effect',\n",
       " \"I been up since 8am eastern waiting on @MorpheBrushes to realease @Jaclynhill palette and I still didn't get it 🙄#Pissed\",\n",
       " '@ChelseaFC we are refreshing your page every hour for updates. This is what you have subjected your fans to.Do we really deserve this?#angry',\n",
       " \"@MJoy_Oldfield It's as if with the death of <LH> (good riddance!), many have turned to the state as a God-substitute.\",\n",
       " \"@MarkArum @LonelyTailgater @johnnykielbasa @wsbradio #Cap'nCrunch <LH> !!!\",\n",
       " '<LH> for another ☀️ #riseandgrind 💪🏾',\n",
       " 'Candeias is doing his best Kenny Miller impression <LH> get him aff get Pena on',\n",
       " '@BritishArmy @AFCHarrogate @armyjobs My father @psychoman44 was an invited guest for the pass out. Congratulations to all <LH>',\n",
       " \"<LH> doesn't want you to act like your disappointments or anguish didn't happen,He wants you to go on in spite of them!\",\n",
       " \"Y'all thought I fogot😂😂😂....Never!!..just been wrkin but here's day 3 of this handsome fella!! #countdown #16longyears <LH>\",\n",
       " '@RubyRockstar333 @TGowdySC That was #AWESOME!!!!!',\n",
       " 'Nooo i cant work #ill🤮',\n",
       " \"I'm not saying I just ate an entire bag of popcorn on my way to dinner... but I'm not not saying it either <LH>\",\n",
       " 'The Twins \"breaching the rules\" incident was the most anticlimactic thing since the 3rd Lions v All Blacks test.  <LH> #TheBlockNZ',\n",
       " 'But with Christ we have #access in a one-to-one relationship -Bono <LH> @OurPrayer @guideposts #ThursdayThoughts',\n",
       " 'no matter how clean, well dressed & cultured gays can be always remember that they poke their penis into shitholes <LH> #gay <LH> #anal',\n",
       " \"@GOP So Gerrymandering got the GOP in but has nothing to show for all their manipulation. And FFS look who's f-ing President! <LH>\",\n",
       " 'Today #is #my <LH> <LH> because #today# is #happy# new# year&$',\n",
       " 'Sometimes Mo will stop playing with a toy, come over to me, lick one of my toes, then go back to his toy and I feel truly <LH>',\n",
       " '75 The moments in your life are only once #Life <LH> <LH> <LH> <LH> <LH> <LH> <LH> October 04, 2017 at 03:30AM',\n",
       " \"The main problem with #Obama's plan was that the US never established a #hope-based economy\",\n",
       " \"Acosta in for himself not news BAN him please, he's distracting & rude @GeneralJFKelly @POTUS @VP @SHSanders45 <LH> #FraudNewsCNN #tcot\",\n",
       " '<LH> fall gear is up and shut the door.',\n",
       " '\"A lack of transparency results in distrust and a deep sense of insecurity.\" ~ Dalai Lama <LH> <LH> #and',\n",
       " 'Thank you very much @GazGrizzo Have a Super Sunday <LH> and <LH> <LH> 😊😇😉✨ 💐🍀🙏💖🏁☝',\n",
       " 'I love witnessing stories of the fams or anybody else for that matter, to have moved to Aus & now be paying their own mortgage 🙏🏽 <LH>',\n",
       " '#Gemini are  extremely <LH> about the #world and always feel that there is not enough time to experience things they want to see.',\n",
       " 'Right vs Left. Rich vs. Poor. Old vs. Young. #College vs Trades. The #Division mentioned by <LH> is here. He who has ears let him hear.',\n",
       " 'I got a binder from bae <LH> 🙌🏻',\n",
       " 'Just found out that @SYSKPodcast are coming to Australia!! <LH> <LH>',\n",
       " 'A day at a time... <LH>',\n",
       " 'Happy friendship day 💟 #ignorance  <LH> #blocked',\n",
       " \"Let's stop fighting each other. your race is my race. your color is my color. our blood is all the same color <LH> for burma muslims😒😒😰😰😰😰😰\",\n",
       " 'When you get to a <LH>',\n",
       " 'this has been the best friendsgiving with @alyssaaloveee <LH> 💓',\n",
       " '🎶 know a great place we can go and hide 🎶 <LH> is out right now @jacobsartorius',\n",
       " 'Game Sunday💪 3pm @sportsplus LETS GET A CROWD! <LH> #wildin 👀😈',\n",
       " 'Closed Buy 1.0 Lots EURUSD 1.17533 for +25.4 pips, total for today +25.4 pips <LH> <LH> <LH> <LH> <LH>',\n",
       " '@TheRickyDavila #LOVE&LIGHT2ALL💝💝💝',\n",
       " 'Dear Future Presidents of the United States, Please bring respect and responsibility back to the Office no matter your politics.#embarrassed',\n",
       " 'Absolutely LOVELOVELOVE @taylorswift13 music video for \"look what you made me do\"!! <LH> #backwithavengence',\n",
       " 'According to #Fox .. getting shot in church is the best place..we have a best place now??? These idiots are insane.. should be #ashamed!!!!?',\n",
       " \"@RobinRoberts Can't wait to watch!!! ❤️❤️❤️❤️ <LH> @LukeBryanOnline 😍😍😍\",\n",
       " '#GOT is relatable AF...we got WHITE WALKERS Coming for us too! <LH> #Charlottesville',\n",
       " 'Getting very <LH> about a trip to that there London Town today to see #U2JoshuaTreeTour2017  with @NoelGallagher !',\n",
       " '@oneillyatescbc Where did you grow up? <LH>',\n",
       " 'Upset @Target for having me loose my SNES TWICE!!!!!  Get your site under control. #wantmyconsoleback  #siteglitch #ticketmasterrules <LH>',\n",
       " '@KySportsRadio That was a lot like UK vs UNC in the elite eight. <LH> #gocats #BBN',\n",
       " 'I recommend scrolling through @dodo videos on days like today. 😱😭🤬#helplessness <LH> <LH> #keepfighting #guncontrol #nra',\n",
       " 'I get to take home all the leftovers because the fam already knows I have 0 cook abilities. <LH>',\n",
       " 'Many thanks & Welcome to our new <LH> @ClubEmail @CHI_DealFinder @icelandin8days @SlugCoventry @Stevenp25141732 <LH> #business 😀',\n",
       " '11 If you are #female, <LH> and over 20 DM me for potential #love. <LH> August 16, 2017 at 04:30AM',\n",
       " \"@pperrin @piersmorgan I'm white, but I feel I was born in the wrong colour. Am I allowed to say it or not?! <LH>\",\n",
       " \"Hasn't #TabbysStar got a lot more interesting! Thank you Wendy @twinklespinalot ! #WTF?\",\n",
       " 'Just achieved greatest moment ever! Just abseiled down @AMOrbit on my own and I feel <LH> and <LH> with fellow group @barnardos!',\n",
       " 'Perks of having a tall boyfriend; He can kill spiders on the ceiling 🙏💖 <LH>',\n",
       " 'Pizza Hut 🍕 , Hot Cheetos and some  🏎Fast & Furious🏍  🚓🚓🚓  <LH>',\n",
       " \"Where's the MV yo?!?!!?!? <LH> <LH>\",\n",
       " 'So happy to have such great circle of friends!!! <LH>',\n",
       " 'I imagine this is what the olden days felt like.. Sitting around telling stories and getting really drunk with friends. #blessed*',\n",
       " \"While sweeping at close today, I discovered someone's clipped fingernails. <LH> #terrified #serverlife #serverproblems\",\n",
       " '\"I know <LH> will not give me anything I can\\'t handle. I just wish He didn\\'t trust me so much.\" Mother Teresa',\n",
       " \"Now I'm getting an oil change and everybody and they mama was here. Been here for way too long <LH> #hadtodoitthough\",\n",
       " '@samuel14827912 #faith, #hope, and <LH> will last forever. The greatest is #love. 1 corinthians 13:13 <LH>',\n",
       " 'Picking up another mastiff pup tonight. <LH>',\n",
       " \"Lmfao you a fuck nigga who thinks he's a good dude 😂 <LH>\",\n",
       " \"Good luck tonight @ladyjaysvb!!! You've got this!!! <LH> #BumpSetSpike\",\n",
       " 'Just SSSSSOOOOO tired of the blowhard jack hole #trump. Never cared before, but this guy is slick snakey shade. BOOOOOOOoooooo. #trump <LH>',\n",
       " '@scottbudman @iKnightscope Are those fake wheels? <LH>',\n",
       " '\"For no one can lay any other #foundation than what has been laid down. That foundation is <LH> #Christ\" (1 Cor. 3:11)',\n",
       " '@Whitneygoodfell <LH> picture',\n",
       " 'It was an amazing experience i shared with my 💗💞💟  <LH> #loa #SolarEclipse2017',\n",
       " '#MyArchNemesisWouldBe Satan, but <LH> is with us.  #Jesus: \"I saw Satan fall like lightning from heaven.\"  #Prayer: \"Deliver us from evil\"',\n",
       " 'Praise the Lord for programs like @childhopeonline, helping children through education and the word of God. <LH> #missions',\n",
       " '<LH> enough to have seen a rare double eclipse, which is when the moon blocks the sun and then the clouds block them both',\n",
       " '<LH> really dont understand how our govt can be complete idiots to pay 45 to protect him',\n",
       " 'It is difficult to have strong #selfconfidence without #FaithinGod. But not impossible. <LH> is a powerful force. It brings many #miracles',\n",
       " '@Briana_Lee_xx #maybe - but <LH> beyond words!!!! <LH>',\n",
       " '@debaenem Congrats #impressive <LH>',\n",
       " '@SpeakerRyan @GOP @VP  Anyone opposing Trump will be on the right side of History.  Your legacy to be complicit is duly noted #Resist <LH>',\n",
       " '@EricFish1111 😧 No way!! Is that really him?? <LH>',\n",
       " '@NerdOnACorner #hearts, you double-#minded. #Lament and #mourn and weep! Let your <LH> be turned to #mourning and your <LH> to [2/3]',\n",
       " \"Two @UberUK drivers in one week know where I'm going because it's where the speed awareness course is. <LH> #amisafe #uber #speeding\",\n",
       " '@dallashoelscher Yes. Yes it is. With Coldplay. <LH>',\n",
       " '#SignsOfABadRestaurant you get cut off before you step over the threshold. #TrueStory <LH>',\n",
       " '@bbctennis <LH> match Murray v Paire',\n",
       " '@realDonaldTrump A under 50% approval rating makes you excited.   Haha! <LH>',\n",
       " 'I tried to hold the door for someone & I pulled on the door when the sign clearly said, \"Push.\" 😩😩😩 <LH>',\n",
       " '@BrandiKHOU @HCSOTexas Thank you!!!!! 💜💜💜 #GodusedyouforHiswork <LH> #GodBlessTexas',\n",
       " '@DangeRussWilson your 🔥 but UR #teamates think UR a #punk? Why? U not #Black 👦🏿enough? <LH> ass #Fools u got #top10 QB & u #Diss him?',\n",
       " '<LH> <LH> : JetBlue Super frustrating experience here tonight. More than 3 hours delay is unacceptable.',\n",
       " '@Lirioroja Blessings! I <LH> I may feel some response to my #prayers. I pray that I may be content with whatever form that response takes!',\n",
       " 'So much good in my life. <LH> #🙏🏼',\n",
       " '@sueperkins Yes he did!!! <LH>',\n",
       " 'I need this week to be over so I can get on a regular schedule!! <LH> #onedayatatime',\n",
       " '<LH> has always been a <LH> that never materialized, we cant restore peace first we will have to create it #world #spainattack #america',\n",
       " \"Two more days!!! It's #October, my favorite month!  #Halloween, #Diadelosmuertos and everything #spooky!\",\n",
       " 'So my parents are in town, we are currently at otooles dancing and having a blast. <LH>',\n",
       " 'The nerves are getting into me again. Lord, please help. <LH> #Overthinking',\n",
       " \"Why can't we just have a few nice, warm sunny days? #britishsummer #washout <LH>\",\n",
       " '@MeganFoxST I am so blessed by God, I can never be ungrateful. <LH> <LH> <LH> #alllove <LH>',\n",
       " \"@realDonaldTrump You truly are a legend in your own mind. You've done next to nothing. <LH> #LOWENERGY\",\n",
       " ...]"
      ]
     },
     "execution_count": 9,
     "metadata": {},
     "output_type": "execute_result"
    }
   ],
   "source": [
    "train_x"
   ]
  },
  {
   "cell_type": "code",
   "execution_count": null,
   "metadata": {
    "colab": {
     "base_uri": "https://localhost:8080/",
     "height": 219
    },
    "executionInfo": {
     "elapsed": 731,
     "status": "error",
     "timestamp": 1669356579511,
     "user": {
      "displayName": "陳皇佑",
      "userId": "01619903051591522740"
     },
     "user_tz": -480
    },
    "id": "LNgpH3HRe3dv",
    "outputId": "20038cc0-4c70-4fef-fac4-0a058f67e1f6"
   },
   "outputs": [
    {
     "ename": "NameError",
     "evalue": "ignored",
     "output_type": "error",
     "traceback": [
      "\u001b[0;31m---------------------------------------------------------------------------\u001b[0m",
      "\u001b[0;31mNameError\u001b[0m                                 Traceback (most recent call last)",
      "\u001b[0;32m<ipython-input-10-e07aeff55153>\u001b[0m in \u001b[0;36m<module>\u001b[0;34m\u001b[0m\n\u001b[1;32m     34\u001b[0m \u001b[0;31m# test_str = HE_RE.sub('', test_str)\u001b[0m\u001b[0;34m\u001b[0m\u001b[0;34m\u001b[0m\u001b[0;34m\u001b[0m\u001b[0m\n\u001b[1;32m     35\u001b[0m \u001b[0;34m\u001b[0m\u001b[0m\n\u001b[0;32m---> 36\u001b[0;31m \u001b[0mremove_tags\u001b[0m\u001b[0;34m(\u001b[0m\u001b[0mtest_str\u001b[0m\u001b[0;34m)\u001b[0m\u001b[0;34m\u001b[0m\u001b[0;34m\u001b[0m\u001b[0m\n\u001b[0m\u001b[1;32m     37\u001b[0m \u001b[0;31m# test_str\u001b[0m\u001b[0;34m\u001b[0m\u001b[0;34m\u001b[0m\u001b[0;34m\u001b[0m\u001b[0m\n",
      "\u001b[0;31mNameError\u001b[0m: name 'remove_tags' is not defined"
     ]
    }
   ],
   "source": [
    "AM_RE = re.compile(r'am',re.I)\n",
    "IS_RE = re.compile(r'is',re.I)\n",
    "ARE_RE = re.compile(r'are',re.I)\n",
    "AT_RE = re.compile(r'at',re.I)\n",
    "IN_RE = re.compile(r'in',re.I)\n",
    "ON_RE = re.compile(r'on',re.I)\n",
    "THE_RE = re.compile(r'the',re.I)\n",
    "SHE_RE = re.compile(r'she',re.I)\n",
    "THEY_RE = re.compile(r'they',re.I)\n",
    "MY_RE = re.compile(r'my',re.I)\n",
    "HER_RE = re.compile(r'her',re.I)\n",
    "HIS_RE = re.compile(r'his',re.I)\n",
    "OUR_RE = re.compile(r'our',re.I)\n",
    "THEIR_RE = re.compile(r'their',re.I)\n",
    "WE_RE = re.compile(r'we',re.I)\n",
    "HE_RE = re.compile(r'he',re.I)\n",
    "\n",
    "\n",
    "test_str = 'He is the man who are happy in the home. I am glad she Are on table at school.<LH>'\n",
    "# test_str = AM_RE.sub('', test_str) \n",
    "# test_str = IS_RE.sub('', test_str) \n",
    "# test_str = ARE_RE.sub('', test_str)  \n",
    "# test_str = AT_RE.sub('', test_str)  \n",
    "# test_str = IN_RE.sub('', test_str)  \n",
    "# test_str = ON_RE.sub('', test_str)  \n",
    "# test_str = THEY_RE.sub('', test_str)\n",
    "# test_str = SHE_RE.sub('', test_str)\n",
    "# test_str = THEIR_RE.sub('', test_str)\n",
    "# test_str = HER_RE.sub('', test_str)\n",
    "# test_str = HIS_RE.sub('', test_str)\n",
    "# test_str = OUR_RE.sub('', test_str)\n",
    "# test_str = WE_RE.sub('', test_str)\n",
    "# test_str = THE_RE.sub('', test_str)\n",
    "# test_str = HE_RE.sub('', test_str)\n",
    "\n",
    "remove_tags(test_str)\n",
    "# test_str"
   ]
  },
  {
   "cell_type": "code",
   "execution_count": null,
   "metadata": {
    "id": "_zq_e5LY5v1b"
   },
   "outputs": [],
   "source": [
    "TAG_RE = re.compile(r'<[^>]+>')\n",
    "\n",
    "AM_RE = re.compile(r'\\s+am\\s+',re.I)\n",
    "IS_RE = re.compile(r'\\s+is\\s+',re.I)\n",
    "ARE_RE = re.compile(r'\\s+are\\s+',re.I)\n",
    "AT_RE = re.compile(r'\\s+at\\s+',re.I)\n",
    "IN_RE = re.compile(r'\\s+in\\s+',re.I)\n",
    "ON_RE = re.compile(r'\\s+on\\s+',re.I)\n",
    "THE_RE = re.compile(r'\\s+the\\s+',re.I)\n",
    "SHE_RE = re.compile(r'\\s+she\\s+',re.I)\n",
    "THEY_RE = re.compile(r'\\s+they\\s+',re.I)\n",
    "MY_RE = re.compile(r'\\s+my\\s+',re.I)\n",
    "HER_RE = re.compile(r'\\s+her\\s+',re.I)\n",
    "HIS_RE = re.compile(r'\\s+his\\s+',re.I)\n",
    "OUR_RE = re.compile(r'\\s+our\\s+',re.I)\n",
    "THEIR_RE = re.compile(r'\\s+their\\s+',re.I)\n",
    "WE_RE = re.compile(r'\\s+we\\s+',re.I)\n",
    "HE_RE = re.compile(r'\\s+he\\s+',re.I)\n",
    "IT_RE = re.compile(r'\\s+it\\s+',re.I)\n",
    "\n",
    "def remove_tags(text):\n",
    "    return TAG_RE.sub('', text)\n",
    "\n",
    "def remove_unused(test_str):\n",
    "    test_str = AM_RE.sub(' ', test_str) \n",
    "    test_str = IS_RE.sub(' ', test_str) \n",
    "    test_str = ARE_RE.sub(' ', test_str)  \n",
    "    test_str = AT_RE.sub(' ', test_str)  \n",
    "    test_str = IN_RE.sub(' ', test_str)  \n",
    "    test_str = ON_RE.sub(' ', test_str)  \n",
    "    test_str = THEY_RE.sub(' ', test_str)\n",
    "    test_str = SHE_RE.sub(' ', test_str)\n",
    "    test_str = THEIR_RE.sub(' ', test_str)\n",
    "    test_str = HER_RE.sub(' ', test_str)\n",
    "    test_str = HIS_RE.sub(' ', test_str)\n",
    "    test_str = OUR_RE.sub(' ', test_str)\n",
    "    test_str = WE_RE.sub(' ', test_str)\n",
    "    test_str = THE_RE.sub(' ', test_str)\n",
    "    test_str = HE_RE.sub(' ', test_str)\n",
    "    test_str = IT_RE.sub(' ', test_str)\n",
    "    return test_str\n",
    "\n",
    "def preprocess_text(sen):\n",
    "    # Removing html tags\n",
    "    sentence = remove_tags(sen)\n",
    "\n",
    "\n",
    "    # Remove punctuations and numbers\n",
    "    sentence = re.sub('[^a-zA-Z]', ' ', sentence)\n",
    "\n",
    "    # Single character removal\n",
    "    sentence = re.sub(r\"\\s+[a-zA-Z]\\s+\", ' ', sentence)\n",
    "\n",
    "    # sentence = remove_unused(sentence)\n",
    "\n",
    "    # Removing multiple spaces\n",
    "    sentence = re.sub(r'\\s+', ' ', sentence)\n",
    "\n",
    "    return sentence"
   ]
  },
  {
   "cell_type": "code",
   "execution_count": null,
   "metadata": {
    "id": "j5fcFcNa5wW0"
   },
   "outputs": [],
   "source": [
    "X_train = []\n",
    "sentences = train_x\n",
    "for sen in sentences:\n",
    "    X_train.append(preprocess_text(sen))\n"
   ]
  },
  {
   "cell_type": "code",
   "execution_count": null,
   "metadata": {
    "id": "4XipJCATRrQs"
   },
   "outputs": [],
   "source": [
    "train_x[2]"
   ]
  },
  {
   "cell_type": "code",
   "execution_count": null,
   "metadata": {
    "id": "j52zTFFGqTLM"
   },
   "outputs": [],
   "source": [
    "X_train[2]"
   ]
  },
  {
   "cell_type": "code",
   "execution_count": null,
   "metadata": {
    "id": "KpHcfA3tz_RW"
   },
   "outputs": [],
   "source": [
    "X_val = []\n",
    "sentences = val_x\n",
    "for sen in sentences:\n",
    "    X_val.append(preprocess_text(sen))"
   ]
  },
  {
   "cell_type": "code",
   "execution_count": null,
   "metadata": {
    "id": "TjkUx_eFo8ei"
   },
   "outputs": [],
   "source": [
    "y_train = train_y"
   ]
  },
  {
   "cell_type": "code",
   "execution_count": null,
   "metadata": {
    "id": "bS-LMmAJ0usv"
   },
   "outputs": [],
   "source": [
    "y_val = val_y"
   ]
  },
  {
   "cell_type": "code",
   "execution_count": null,
   "metadata": {
    "id": "08R-f1XWZYWh"
   },
   "outputs": [],
   "source": [
    "X_test = []\n",
    "sentences = raw_test_x\n",
    "for sen in sentences:\n",
    "    X_test.append(preprocess_text(sen))"
   ]
  },
  {
   "cell_type": "code",
   "execution_count": null,
   "metadata": {
    "id": "QBTn9uTg54mN"
   },
   "outputs": [],
   "source": [
    "tokenizer = tf.keras.preprocessing.text.Tokenizer(num_words=10000)\n",
    "tokenizer.fit_on_texts(X_train)\n",
    "\n",
    "X_train = tokenizer.texts_to_sequences(X_train)\n",
    "X_val = tokenizer.texts_to_sequences(X_val)\n",
    "X_test = tokenizer.texts_to_sequences(X_test)\n",
    "\n",
    "max_len = 15\n",
    "# padding sentences to the same length\n",
    "X_train = tf.keras.preprocessing.sequence.pad_sequences(X_train, padding='post', maxlen=max_len)\n",
    "X_val = tf.keras.preprocessing.sequence.pad_sequences(X_val, padding='post', maxlen=max_len)\n",
    "X_test = tf.keras.preprocessing.sequence.pad_sequences(X_test, padding='post', maxlen=max_len)"
   ]
  },
  {
   "cell_type": "code",
   "execution_count": null,
   "metadata": {
    "id": "FVBBjuuhNKB8"
   },
   "outputs": [],
   "source": [
    "# show the preprocessed data\n",
    "len(X_train)\n"
   ]
  },
  {
   "cell_type": "code",
   "execution_count": null,
   "metadata": {
    "colab": {
     "base_uri": "https://localhost:8080/"
    },
    "executionInfo": {
     "elapsed": 6080,
     "status": "ok",
     "timestamp": 1669356709992,
     "user": {
      "displayName": "陳皇佑",
      "userId": "01619903051591522740"
     },
     "user_tz": -480
    },
    "id": "IQ6uEtu6582v",
    "outputId": "07a4374a-7f5b-4872-9cf5-11bc8bb7ce8f"
   },
   "outputs": [
    {
     "data": {
      "text/plain": [
       "(TensorShape([64, 15]), TensorShape([64, 8]))"
      ]
     },
     "execution_count": 18,
     "metadata": {},
     "output_type": "execute_result"
    }
   ],
   "source": [
    "BUFFER_SIZE = len(X_train)\n",
    "BATCH_SIZE = 64\n",
    "steps_per_epoch = len(X_train)//BATCH_SIZE\n",
    "embedding_dim = 256\n",
    "units = 1024\n",
    "# only reserve 10000 words\n",
    "vocab_size = 10000\n",
    "\n",
    "dataset = tf.data.Dataset.from_tensor_slices((X_train, y_train)).shuffle(BUFFER_SIZE)\n",
    "dataset = dataset.batch(BATCH_SIZE, drop_remainder=True)\n",
    "# test_dataset = tf.data.Dataset.from_tensor_slices((X_test, y_test))\n",
    "# test_dataset = test_dataset.batch(BATCH_SIZE, drop_remainder=False)\n",
    "\n",
    "example_input_batch, example_target_batch = next(iter(dataset))\n",
    "example_input_batch.shape, example_target_batch.shape"
   ]
  },
  {
   "cell_type": "code",
   "execution_count": null,
   "metadata": {
    "id": "7acrGmwK0mi-"
   },
   "outputs": [],
   "source": [
    "val_dataset = tf.data.Dataset.from_tensor_slices((X_val, y_val))\n",
    "val_dataset = val_dataset.batch(BATCH_SIZE, drop_remainder=False)"
   ]
  },
  {
   "cell_type": "code",
   "execution_count": null,
   "metadata": {
    "colab": {
     "base_uri": "https://localhost:8080/"
    },
    "executionInfo": {
     "elapsed": 5,
     "status": "ok",
     "timestamp": 1669362326551,
     "user": {
      "displayName": "陳皇佑",
      "userId": "01619903051591522740"
     },
     "user_tz": -480
    },
    "id": "MbfJJt-Qv3hQ",
    "outputId": "5c32f903-7bcc-48cc-8045-48a3162f57cb"
   },
   "outputs": [
    {
     "data": {
      "text/plain": [
       "<BatchDataset element_spec=(TensorSpec(shape=(None, 15), dtype=tf.int32, name=None), TensorSpec(shape=(None, 8), dtype=tf.float32, name=None))>"
      ]
     },
     "execution_count": 77,
     "metadata": {},
     "output_type": "execute_result"
    }
   ],
   "source": [
    "val_dataset"
   ]
  },
  {
   "cell_type": "markdown",
   "metadata": {
    "id": "EtizrPDIKUUp"
   },
   "source": [
    "# Model\n"
   ]
  },
  {
   "cell_type": "code",
   "execution_count": null,
   "metadata": {
    "id": "gdfFw6t36Ae3"
   },
   "outputs": [],
   "source": [
    "class Encoder(tf.keras.Model):\n",
    "    def __init__(self, vocab_size, embedding_dim, enc_units, batch_sz):\n",
    "        # vacab_size=10000, embedding_dim=256 enc_units=1024 batch_sz=64\n",
    "        super(Encoder, self).__init__()\n",
    "        self.batch_sz = batch_sz\n",
    "        self.enc_units = enc_units\n",
    "        self.embedding = tf.keras.layers.Embedding(vocab_size, embedding_dim)\n",
    "        self.gru = tf.keras.layers.GRU(self.enc_units,\n",
    "                                       return_sequences=True,\n",
    "                                       return_state=True,\n",
    "                                       recurrent_activation='sigmoid',\n",
    "                                       recurrent_initializer='glorot_uniform')\n",
    "\n",
    "    def call(self, x, hidden):\n",
    "        # x is the training data with shape == (batch_size，max_length)  -> (64, 100)\n",
    "        # which means there are batch_size sentences in one batch, the length of each sentence is max_length\n",
    "        # hidden state shape == (batch_size, units) -> (64, 1024)\n",
    "        # after embedding, x shape == (batch_size, max_length, embedding_dim) -> (64, 100, 256)\n",
    "        x = self.embedding(x)\n",
    "        \n",
    "        # output contains the state(in GRU, the hidden state and the output are same) from all timestamps,\n",
    "        # output shape == (batch_size, max_length, units) -> (64, 100, 1024)\n",
    "        # state is the hidden state of the last timestamp, shape == (batch_size, units) -> (64, 1024)\n",
    "        output, state = self.gru(x, initial_state=hidden)\n",
    "        \n",
    "        return output, state\n",
    "\n",
    "    def initialize_hidden_state(self):\n",
    "        # initialize the first state of the gru,  shape == (batch_size, units) -> (64, 1024)\n",
    "        return tf.zeros((self.batch_sz, self.enc_units))"
   ]
  },
  {
   "cell_type": "code",
   "execution_count": null,
   "metadata": {
    "colab": {
     "base_uri": "https://localhost:8080/"
    },
    "executionInfo": {
     "elapsed": 2010,
     "status": "ok",
     "timestamp": 1669356711978,
     "user": {
      "displayName": "陳皇佑",
      "userId": "01619903051591522740"
     },
     "user_tz": -480
    },
    "id": "s_QiTj9q6D62",
    "outputId": "a2a1b7f9-4a27-4578-cf8a-8345b45c398e"
   },
   "outputs": [
    {
     "name": "stdout",
     "output_type": "stream",
     "text": [
      "Encoder output shape: (batch size, sequence length, units) (64, 15, 1024)\n",
      "Encoder Hidden state shape: (batch size, units) (64, 1024)\n",
      "tf.Tensor([ True  True  True ...  True  True  True], shape=(1024,), dtype=bool)\n"
     ]
    }
   ],
   "source": [
    "encoder = Encoder(vocab_size, embedding_dim, units, BATCH_SIZE)\n",
    "\n",
    "# sample input\n",
    "sample_hidden = encoder.initialize_hidden_state()\n",
    "sample_output, sample_hidden = encoder(example_input_batch, sample_hidden)\n",
    "print('Encoder output shape: (batch size, sequence length, units) {}'.format(sample_output.shape))\n",
    "print('Encoder Hidden state shape: (batch size, units) {}'.format(sample_hidden.shape))\n",
    "# the output and the hidden state of GRU is equal\n",
    "print(sample_output[-1, -1, :] == sample_hidden[-1, :])"
   ]
  },
  {
   "cell_type": "code",
   "execution_count": null,
   "metadata": {
    "id": "Zda9EZU96Fox"
   },
   "outputs": [],
   "source": [
    "class LuongAttention(tf.keras.Model):\n",
    "    # def __init__(self, units):\n",
    "    #     super(LuongAttention, self).__init__()\n",
    "    #     # TODO: Complete the function.\n",
    "    #     pass\n",
    "\n",
    "    # def call(self, query, values):\n",
    "    #     # TODO: Implement the Luong attention.\n",
    "    #     pass\n",
    "\n",
    "    def __init__(self, units):\n",
    "        super(LuongAttention, self).__init__()\n",
    "        self.W = tf.keras.layers.Dense(units)\n",
    "\n",
    "    def call(self, query, values):\n",
    "        # query shape == (batch_size, hidden size)\n",
    "        # hidden_with_time_axis shape == (batch_size, 1, hidden size)\n",
    "        # we are doing this to perform addition to calculate the score\n",
    "        hidden_with_time_axis = tf.expand_dims(query, 1)\n",
    "\n",
    "        # score shape == (batch_size, max_length, 1)\n",
    "        score = tf.linalg.matmul(self.W(values), hidden_with_time_axis, transpose_b=True)\n",
    "\n",
    "        # attention_weights shape == (batch_size, max_length, 1)\n",
    "        attention_weights = tf.nn.softmax(score, axis=1)\n",
    "\n",
    "        # context_vector shape == (batch_size, max_length, hidden_size)\n",
    "        context_vector = attention_weights * values\n",
    "        \n",
    "        # context_vector shape after sum == (batch_size, hidden_size)\n",
    "        context_vector = tf.reduce_sum(context_vector, axis=1)\n",
    "\n",
    "        return context_vector, attention_weights"
   ]
  },
  {
   "cell_type": "code",
   "execution_count": null,
   "metadata": {
    "id": "6s5QIjHLJ1oW"
   },
   "outputs": [],
   "source": [
    "class BahdanauAttention(tf.keras.Model):\n",
    "    def __init__(self, units):\n",
    "        super(BahdanauAttention, self).__init__()\n",
    "        self.W1 = tf.keras.layers.Dense(units)\n",
    "        self.W2 = tf.keras.layers.Dense(units)\n",
    "        self.V = tf.keras.layers.Dense(1)\n",
    "\n",
    "    def call(self, query, values):\n",
    "        # query shape == (batch_size, hidden size)\n",
    "        # hidden_with_time_axis shape == (batch_size, 1, hidden size)\n",
    "        # we are doing this to perform addition to calculate the score\n",
    "        hidden_with_time_axis = tf.expand_dims(query, 1)\n",
    "\n",
    "        # score shape == (batch_size, max_length, 1)\n",
    "        # we get 1 at the last axis because we are applying score to self.V\n",
    "        # the shape of the tensor before applying self.V is (batch_size, max_length, units)\n",
    "        score = self.V(tf.nn.tanh(self.W1(values) + self.W2(hidden_with_time_axis)))\n",
    "\n",
    "        # attention_weights shape == (batch_size, max_length, 1)\n",
    "        attention_weights = tf.nn.softmax(score, axis=1)\n",
    "\n",
    "        # context_vector shape == (batch_size, max_length, hidden_size)\n",
    "        context_vector = attention_weights * values\n",
    "        \n",
    "        # context_vector shape after sum == (batch_size, hidden_size)\n",
    "        context_vector = tf.reduce_sum(context_vector, axis=1)\n",
    "\n",
    "        return context_vector, attention_weights"
   ]
  },
  {
   "cell_type": "code",
   "execution_count": null,
   "metadata": {
    "id": "P0K-m4N2Reh5"
   },
   "outputs": [],
   "source": [
    "class DotAttention(tf.keras.Model):\n",
    "    # def __init__(self, units):\n",
    "    #     super(LuongAttention, self).__init__()\n",
    "    #     # TODO: Complete the function.\n",
    "    #     pass\n",
    "\n",
    "    # def call(self, query, values):\n",
    "    #     # TODO: Implement the Luong attention.\n",
    "    #     pass\n",
    "\n",
    "    def __init__(self, units):\n",
    "        super(DotAttention, self).__init__()\n",
    "\n",
    "    def call(self, query, values):\n",
    "        # query shape == (batch_size, hidden size)\n",
    "        # hidden_with_time_axis shape == (batch_size, 1, hidden size)\n",
    "        # we are doing this to perform addition to calculate the score\n",
    "        hidden_with_time_axis = tf.expand_dims(query, 1)\n",
    "\n",
    "        # score shape == (batch_size, max_length, 1)\n",
    "        score = tf.linalg.matmul(values, hidden_with_time_axis, transpose_b=True)\n",
    "\n",
    "        # attention_weights shape == (batch_size, max_length, 1)\n",
    "        attention_weights = tf.nn.softmax(score, axis=1)\n",
    "\n",
    "        # context_vector shape == (batch_size, max_length, hidden_size)\n",
    "        context_vector = attention_weights * values\n",
    "        \n",
    "        # context_vector shape after sum == (batch_size, hidden_size)\n",
    "        context_vector = tf.reduce_sum(context_vector, axis=1)\n",
    "\n",
    "        return context_vector, attention_weights"
   ]
  },
  {
   "cell_type": "code",
   "execution_count": null,
   "metadata": {
    "id": "hOTr2_Hh6HV_"
   },
   "outputs": [],
   "source": [
    "class Decoder(tf.keras.Model):\n",
    "    def __init__(self, dec_units, batch_sz):\n",
    "        super(Decoder, self).__init__()\n",
    "        self.batch_sz = batch_sz\n",
    "        self.dec_units = dec_units\n",
    "        \n",
    "        # pass through four fully connected layers, the model will return \n",
    "        # the probability of the positivity of the sentence\n",
    "        self.fc_1 = tf.keras.layers.Dense(2048)\n",
    "        self.fc_2 = tf.keras.layers.Dense(512)\n",
    "        self.fc_3 = tf.keras.layers.Dense(64)\n",
    "        self.fc_4 = tf.keras.layers.Dense(8, activation='softmax')\n",
    "\n",
    "        # used for attention\n",
    "        self.attention = LuongAttention(self.dec_units)\n",
    "        # self.attention = BahdanauAttention(self.dec_units)\n",
    "        # self.attention = DotAttention(self.dec_units)\n",
    "        \n",
    "\n",
    "    def call(self, hidden, enc_output):\n",
    "        context_vector, attention_weights = self.attention(hidden, enc_output)\n",
    "        output = self.fc_1(context_vector)\n",
    "        output = self.fc_2(output)\n",
    "        output = self.fc_3(output)\n",
    "        output = self.fc_4(output)\n",
    "\n",
    "        return output, attention_weights"
   ]
  },
  {
   "cell_type": "code",
   "execution_count": null,
   "metadata": {
    "colab": {
     "base_uri": "https://localhost:8080/"
    },
    "executionInfo": {
     "elapsed": 2706,
     "status": "ok",
     "timestamp": 1669356742614,
     "user": {
      "displayName": "陳皇佑",
      "userId": "01619903051591522740"
     },
     "user_tz": -480
    },
    "id": "wphbexE56Js8",
    "outputId": "1c03a0fe-5710-415d-9b5a-1c94b8d00a71"
   },
   "outputs": [
    {
     "name": "stdout",
     "output_type": "stream",
     "text": [
      "Decoder output shape: (batch_size, vocab size) (64, 8)\n"
     ]
    }
   ],
   "source": [
    "decoder = Decoder(units, BATCH_SIZE)\n",
    "sample_decoder_output, _ = decoder(sample_hidden, sample_output)\n",
    "print('Decoder output shape: (batch_size, vocab size) {}'.format(sample_decoder_output.shape))"
   ]
  },
  {
   "cell_type": "code",
   "execution_count": null,
   "metadata": {
    "id": "0sV7vNCO6Lbt"
   },
   "outputs": [],
   "source": [
    "optimizer = tf.keras.optimizers.Adam()\n",
    "loss_object = tf.keras.losses.CategoricalCrossentropy(from_logits=True)\n",
    "\n",
    "def loss_function(real, pred):\n",
    "    loss_ = loss_object(real, pred)\n",
    "    return tf.reduce_mean(loss_)"
   ]
  },
  {
   "cell_type": "code",
   "execution_count": null,
   "metadata": {
    "id": "z86PNUbk6O_G"
   },
   "outputs": [],
   "source": [
    "@tf.function\n",
    "def train_step(inp, targ, enc_hidden):\n",
    "    loss = 0\n",
    "\n",
    "    with tf.GradientTape() as tape:\n",
    "        enc_output, enc_hidden = encoder(inp, enc_hidden)\n",
    "\n",
    "        # passing enc_output to the decoder\n",
    "        predictions, _ = decoder(enc_hidden, enc_output)\n",
    "\n",
    "        loss = loss_function(targ, predictions)\n",
    "\n",
    "    # collect all trainable variables\n",
    "    variables = encoder.trainable_variables + decoder.trainable_variables\n",
    "\n",
    "    # calculate the gradients for the whole variables\n",
    "    gradients = tape.gradient(loss, variables)\n",
    "\n",
    "    # apply the gradients on the variables\n",
    "    optimizer.apply_gradients(zip(gradients, variables))\n",
    "\n",
    "    return loss"
   ]
  },
  {
   "cell_type": "code",
   "execution_count": 1,
   "metadata": {
    "colab": {
     "base_uri": "https://localhost:8080/",
     "height": 237
    },
    "executionInfo": {
     "elapsed": 399,
     "status": "error",
     "timestamp": 1669370747875,
     "user": {
      "displayName": "陳皇佑",
      "userId": "01619903051591522740"
     },
     "user_tz": -480
    },
    "id": "gnSgDsl16Rpt",
    "outputId": "81157d43-ad62-4a18-873f-5f6da73a41a1"
   },
   "outputs": [
    {
     "ename": "NameError",
     "evalue": "ignored",
     "output_type": "error",
     "traceback": [
      "\u001b[0;31m---------------------------------------------------------------------------\u001b[0m",
      "\u001b[0;31mNameError\u001b[0m                                 Traceback (most recent call last)",
      "\u001b[0;32m<ipython-input-1-d7a50255733a>\u001b[0m in \u001b[0;36m<module>\u001b[0;34m\u001b[0m\n\u001b[1;32m      3\u001b[0m \u001b[0;34m\u001b[0m\u001b[0m\n\u001b[1;32m      4\u001b[0m \u001b[0;32mfor\u001b[0m \u001b[0mepoch\u001b[0m \u001b[0;32min\u001b[0m \u001b[0mrange\u001b[0m\u001b[0;34m(\u001b[0m\u001b[0mEPOCHS\u001b[0m\u001b[0;34m)\u001b[0m\u001b[0;34m:\u001b[0m\u001b[0;34m\u001b[0m\u001b[0;34m\u001b[0m\u001b[0m\n\u001b[0;32m----> 5\u001b[0;31m     \u001b[0mstart\u001b[0m \u001b[0;34m=\u001b[0m \u001b[0mtime\u001b[0m\u001b[0;34m.\u001b[0m\u001b[0mtime\u001b[0m\u001b[0;34m(\u001b[0m\u001b[0;34m)\u001b[0m\u001b[0;34m\u001b[0m\u001b[0;34m\u001b[0m\u001b[0m\n\u001b[0m\u001b[1;32m      6\u001b[0m \u001b[0;34m\u001b[0m\u001b[0m\n\u001b[1;32m      7\u001b[0m     \u001b[0;31m# get the initial hidden state of gru\u001b[0m\u001b[0;34m\u001b[0m\u001b[0;34m\u001b[0m\u001b[0;34m\u001b[0m\u001b[0m\n",
      "\u001b[0;31mNameError\u001b[0m: name 'time' is not defined"
     ]
    }
   ],
   "source": [
    "# set the epochs for training\n",
    "EPOCHS = 25\n",
    "\n",
    "for epoch in range(EPOCHS):\n",
    "    start = time.time()\n",
    "\n",
    "    # get the initial hidden state of gru\n",
    "    enc_hidden = encoder.initialize_hidden_state()\n",
    "    total_loss = 0\n",
    "\n",
    "    for (batch, (inp, targ)) in enumerate(dataset.take(steps_per_epoch)):\n",
    "        batch_loss = train_step(inp, targ, enc_hidden)\n",
    "        total_loss += batch_loss\n",
    "\n",
    "        if batch % 100 == 0:\n",
    "            print('Epoch {} Batch {} Loss {:.4f}'.format(epoch + 1,\n",
    "                                                         batch,\n",
    "                                                         batch_loss.numpy()))\n",
    "\n",
    "    # saving (checkpoint) the model every 2 epochs\n",
    "    # if (epoch + 1) % 2 == 0:\n",
    "    #     checkpoint.save(file_prefix=checkpoint_prefix)\n",
    "\n",
    "    print('Epoch {} Loss {:.4f}'.format(epoch + 1,\n",
    "                                        total_loss / steps_per_epoch))\n",
    "    print('Time taken for 1 epoch {} sec\\n'.format(time.time() - start))"
   ]
  },
  {
   "cell_type": "code",
   "execution_count": null,
   "metadata": {
    "id": "8k5Wjkwr6Z97"
   },
   "outputs": [],
   "source": [
    "@tf.function\n",
    "def test_step(inp, enc_hidden):\n",
    "    with tf.GradientTape() as tape:\n",
    "        enc_output, enc_hidden = encoder(inp, enc_hidden)\n",
    "        predictions, attention_weights = decoder(enc_hidden, enc_output)\n",
    "    return predictions, attention_weights"
   ]
  },
  {
   "cell_type": "code",
   "execution_count": null,
   "metadata": {
    "id": "ko4hfFvC6b6Z"
   },
   "outputs": [],
   "source": [
    "def evaluate(test_data):\n",
    "    enc_hidden = encoder.initialize_hidden_state()\n",
    "    \n",
    "    for batch, (inp, targ) in enumerate(test_data):\n",
    "        if len(inp) != BATCH_SIZE:\n",
    "            enc_hidden = tf.zeros((len(inp), units))\n",
    "        # make prediction\n",
    "        if batch == 0:\n",
    "            predictions, attention_weights = test_step(inp, enc_hidden)\n",
    "            predictions, attention_weights = predictions.numpy(), attention_weights.numpy()\n",
    "        else:\n",
    "            _predictions, _attention_weights = test_step(inp, enc_hidden)\n",
    "            _predictions, _attention_weights = _predictions.numpy(), _attention_weights.numpy()\n",
    "            predictions = np.concatenate((predictions, _predictions))\n",
    "            attention_weights = np.concatenate((attention_weights, _attention_weights))\n",
    "    \n",
    "    predictions = np.squeeze(predictions)\n",
    "    attention_weights = np.squeeze(attention_weights)\n",
    "    for i in range(len(predictions)):\n",
    "         max_v = np.max(predictions[i])\n",
    "         predictions[i][predictions[i]>=max_v] = 1\n",
    "         predictions[i][predictions[i]<max_v] = 0\n",
    "    return predictions, attention_weights"
   ]
  },
  {
   "cell_type": "code",
   "execution_count": null,
   "metadata": {
    "colab": {
     "base_uri": "https://localhost:8080/"
    },
    "executionInfo": {
     "elapsed": 4,
     "status": "ok",
     "timestamp": 1669363306596,
     "user": {
      "displayName": "陳皇佑",
      "userId": "01619903051591522740"
     },
     "user_tz": -480
    },
    "id": "DfRp4Xzx6eLw",
    "outputId": "3a470dc8-b83c-46fc-d5f7-24c5c57083f7"
   },
   "outputs": [
    {
     "name": "stdout",
     "output_type": "stream",
     "text": [
      "Accuracy:  0.8860098999357637\n"
     ]
    }
   ],
   "source": [
    "y_pred, attention_weights = evaluate(val_dataset)\n",
    "# print(y_pred)\n",
    "print('Accuracy: ', (y_pred == y_val).sum() /(len(y_val)*8))"
   ]
  },
  {
   "cell_type": "code",
   "execution_count": null,
   "metadata": {
    "colab": {
     "base_uri": "https://localhost:8080/"
    },
    "executionInfo": {
     "elapsed": 8,
     "status": "ok",
     "timestamp": 1669362373799,
     "user": {
      "displayName": "陳皇佑",
      "userId": "01619903051591522740"
     },
     "user_tz": -480
    },
    "id": "_PoZA8fjr__4",
    "outputId": "dccc7b99-1f42-4764-e691-4b1bce4bb834"
   },
   "outputs": [
    {
     "name": "stdout",
     "output_type": "stream",
     "text": [
      "<class 'numpy.ndarray'>\n"
     ]
    }
   ],
   "source": [
    "print(type(y_pred[24500]))\n",
    "# print('Accuracy: ', (y_pred == y_val).sum() / (len(y_val)*8))"
   ]
  },
  {
   "cell_type": "markdown",
   "metadata": {
    "id": "XQGOgryCYZuG"
   },
   "source": [
    "# test"
   ]
  },
  {
   "cell_type": "code",
   "execution_count": null,
   "metadata": {
    "colab": {
     "base_uri": "https://localhost:8080/"
    },
    "executionInfo": {
     "elapsed": 383,
     "status": "ok",
     "timestamp": 1669361795109,
     "user": {
      "displayName": "陳皇佑",
      "userId": "01619903051591522740"
     },
     "user_tz": -480
    },
    "id": "sZNeHBHSt0rg",
    "outputId": "5de2e4c8-be04-43dd-c4f8-2c80cdc8620f"
   },
   "outputs": [
    {
     "data": {
      "text/plain": [
       "(411972, 15)"
      ]
     },
     "execution_count": 63,
     "metadata": {},
     "output_type": "execute_result"
    }
   ],
   "source": [
    "X_test.shape"
   ]
  },
  {
   "cell_type": "code",
   "execution_count": null,
   "metadata": {
    "id": "KcfYG754a3D5"
   },
   "outputs": [],
   "source": [
    "test_dataset = tf.data.Dataset.from_tensor_slices(X_test)\n",
    "test_dataset = test_dataset.batch(BATCH_SIZE, drop_remainder=False)"
   ]
  },
  {
   "cell_type": "code",
   "execution_count": null,
   "metadata": {
    "id": "Ha8-5tUdzvwj"
   },
   "outputs": [],
   "source": [
    "def evaluate_test(test_data):\n",
    "    enc_hidden = encoder.initialize_hidden_state()\n",
    "    \n",
    "    for batch, (inp) in enumerate(test_data):\n",
    "        if len(inp) != BATCH_SIZE:\n",
    "            enc_hidden = tf.zeros((len(inp), units))\n",
    "        # make prediction\n",
    "        if batch == 0:\n",
    "            predictions, attention_weights = test_step(inp, enc_hidden)\n",
    "            predictions, attention_weights = predictions.numpy(), attention_weights.numpy()\n",
    "        else:\n",
    "            _predictions, _attention_weights = test_step(inp, enc_hidden)\n",
    "            _predictions, _attention_weights = _predictions.numpy(), _attention_weights.numpy()\n",
    "            predictions = np.concatenate((predictions, _predictions))\n",
    "            attention_weights = np.concatenate((attention_weights, _attention_weights))\n",
    "    \n",
    "    predictions = np.squeeze(predictions)\n",
    "    attention_weights = np.squeeze(attention_weights)\n",
    "    for i in range(len(predictions)):\n",
    "         max_v = np.max(predictions[i])\n",
    "         predictions[i][predictions[i]>=max_v] = 1\n",
    "         predictions[i][predictions[i]<max_v] = 0\n",
    "    return predictions, attention_weights"
   ]
  },
  {
   "cell_type": "code",
   "execution_count": null,
   "metadata": {
    "id": "eF4ycQs_uNFq"
   },
   "outputs": [],
   "source": [
    "for batch, (inp, targ) in enumerate(test_dataset):\n",
    "    print(batch)"
   ]
  },
  {
   "cell_type": "code",
   "execution_count": null,
   "metadata": {
    "id": "5YzuAtxFYeVp"
   },
   "outputs": [],
   "source": [
    "y_pred, attention_weights = evaluate_test(test_dataset)"
   ]
  },
  {
   "cell_type": "code",
   "execution_count": null,
   "metadata": {
    "colab": {
     "base_uri": "https://localhost:8080/"
    },
    "executionInfo": {
     "elapsed": 530,
     "status": "ok",
     "timestamp": 1669363887628,
     "user": {
      "displayName": "陳皇佑",
      "userId": "01619903051591522740"
     },
     "user_tz": -480
    },
    "id": "Vpk8YtOUtUIw",
    "outputId": "f0c3bd02-22e3-4038-e518-9449e4ebb335"
   },
   "outputs": [
    {
     "name": "stdout",
     "output_type": "stream",
     "text": [
      "['disgust' 'sadness' 'joy' ... 'anticipation' 'joy' 'joy']\n"
     ]
    }
   ],
   "source": [
    "idx = 23222\n",
    "# max_v = np.max(y_pred[idx])\n",
    "# y_pred[idx][y_pred[idx]>=max_v] = 1\n",
    "# y_pred[idx][y_pred[idx]<max_v] = 0\n",
    "# print(y_pred[idx].shape)\n",
    "# print(label_decode(label_encoder,y_pred))"
   ]
  },
  {
   "cell_type": "code",
   "execution_count": null,
   "metadata": {
    "colab": {
     "base_uri": "https://localhost:8080/",
     "height": 424
    },
    "executionInfo": {
     "elapsed": 6,
     "status": "ok",
     "timestamp": 1669366429803,
     "user": {
      "displayName": "陳皇佑",
      "userId": "01619903051591522740"
     },
     "user_tz": -480
    },
    "id": "BEv--jS8vKoA",
    "outputId": "4cab0dd1-b63a-4333-ffd9-15b52c43f810"
   },
   "outputs": [
    {
     "data": {
      "text/html": [
       "\n",
       "  <div id=\"df-82cc89fd-29c0-49b8-947b-e52041803c00\">\n",
       "    <div class=\"colab-df-container\">\n",
       "      <div>\n",
       "<style scoped>\n",
       "    .dataframe tbody tr th:only-of-type {\n",
       "        vertical-align: middle;\n",
       "    }\n",
       "\n",
       "    .dataframe tbody tr th {\n",
       "        vertical-align: top;\n",
       "    }\n",
       "\n",
       "    .dataframe thead th {\n",
       "        text-align: right;\n",
       "    }\n",
       "</style>\n",
       "<table border=\"1\" class=\"dataframe\">\n",
       "  <thead>\n",
       "    <tr style=\"text-align: right;\">\n",
       "      <th></th>\n",
       "      <th>id</th>\n",
       "      <th>emotion</th>\n",
       "    </tr>\n",
       "  </thead>\n",
       "  <tbody>\n",
       "    <tr>\n",
       "      <th>0</th>\n",
       "      <td>0x28cc61</td>\n",
       "      <td>disgust</td>\n",
       "    </tr>\n",
       "    <tr>\n",
       "      <th>1</th>\n",
       "      <td>0x2db41f</td>\n",
       "      <td>sadness</td>\n",
       "    </tr>\n",
       "    <tr>\n",
       "      <th>2</th>\n",
       "      <td>0x2466f6</td>\n",
       "      <td>joy</td>\n",
       "    </tr>\n",
       "    <tr>\n",
       "      <th>3</th>\n",
       "      <td>0x23f9e9</td>\n",
       "      <td>disgust</td>\n",
       "    </tr>\n",
       "    <tr>\n",
       "      <th>4</th>\n",
       "      <td>0x1fb4e1</td>\n",
       "      <td>disgust</td>\n",
       "    </tr>\n",
       "    <tr>\n",
       "      <th>...</th>\n",
       "      <td>...</td>\n",
       "      <td>...</td>\n",
       "    </tr>\n",
       "    <tr>\n",
       "      <th>411967</th>\n",
       "      <td>0x2c4dc2</td>\n",
       "      <td>joy</td>\n",
       "    </tr>\n",
       "    <tr>\n",
       "      <th>411968</th>\n",
       "      <td>0x31be7c</td>\n",
       "      <td>joy</td>\n",
       "    </tr>\n",
       "    <tr>\n",
       "      <th>411969</th>\n",
       "      <td>0x1ca58e</td>\n",
       "      <td>anticipation</td>\n",
       "    </tr>\n",
       "    <tr>\n",
       "      <th>411970</th>\n",
       "      <td>0x35c8ba</td>\n",
       "      <td>joy</td>\n",
       "    </tr>\n",
       "    <tr>\n",
       "      <th>411971</th>\n",
       "      <td>0x1d941b</td>\n",
       "      <td>joy</td>\n",
       "    </tr>\n",
       "  </tbody>\n",
       "</table>\n",
       "<p>411972 rows × 2 columns</p>\n",
       "</div>\n",
       "      <button class=\"colab-df-convert\" onclick=\"convertToInteractive('df-82cc89fd-29c0-49b8-947b-e52041803c00')\"\n",
       "              title=\"Convert this dataframe to an interactive table.\"\n",
       "              style=\"display:none;\">\n",
       "        \n",
       "  <svg xmlns=\"http://www.w3.org/2000/svg\" height=\"24px\"viewBox=\"0 0 24 24\"\n",
       "       width=\"24px\">\n",
       "    <path d=\"M0 0h24v24H0V0z\" fill=\"none\"/>\n",
       "    <path d=\"M18.56 5.44l.94 2.06.94-2.06 2.06-.94-2.06-.94-.94-2.06-.94 2.06-2.06.94zm-11 1L8.5 8.5l.94-2.06 2.06-.94-2.06-.94L8.5 2.5l-.94 2.06-2.06.94zm10 10l.94 2.06.94-2.06 2.06-.94-2.06-.94-.94-2.06-.94 2.06-2.06.94z\"/><path d=\"M17.41 7.96l-1.37-1.37c-.4-.4-.92-.59-1.43-.59-.52 0-1.04.2-1.43.59L10.3 9.45l-7.72 7.72c-.78.78-.78 2.05 0 2.83L4 21.41c.39.39.9.59 1.41.59.51 0 1.02-.2 1.41-.59l7.78-7.78 2.81-2.81c.8-.78.8-2.07 0-2.86zM5.41 20L4 18.59l7.72-7.72 1.47 1.35L5.41 20z\"/>\n",
       "  </svg>\n",
       "      </button>\n",
       "      \n",
       "  <style>\n",
       "    .colab-df-container {\n",
       "      display:flex;\n",
       "      flex-wrap:wrap;\n",
       "      gap: 12px;\n",
       "    }\n",
       "\n",
       "    .colab-df-convert {\n",
       "      background-color: #E8F0FE;\n",
       "      border: none;\n",
       "      border-radius: 50%;\n",
       "      cursor: pointer;\n",
       "      display: none;\n",
       "      fill: #1967D2;\n",
       "      height: 32px;\n",
       "      padding: 0 0 0 0;\n",
       "      width: 32px;\n",
       "    }\n",
       "\n",
       "    .colab-df-convert:hover {\n",
       "      background-color: #E2EBFA;\n",
       "      box-shadow: 0px 1px 2px rgba(60, 64, 67, 0.3), 0px 1px 3px 1px rgba(60, 64, 67, 0.15);\n",
       "      fill: #174EA6;\n",
       "    }\n",
       "\n",
       "    [theme=dark] .colab-df-convert {\n",
       "      background-color: #3B4455;\n",
       "      fill: #D2E3FC;\n",
       "    }\n",
       "\n",
       "    [theme=dark] .colab-df-convert:hover {\n",
       "      background-color: #434B5C;\n",
       "      box-shadow: 0px 1px 3px 1px rgba(0, 0, 0, 0.15);\n",
       "      filter: drop-shadow(0px 1px 2px rgba(0, 0, 0, 0.3));\n",
       "      fill: #FFFFFF;\n",
       "    }\n",
       "  </style>\n",
       "\n",
       "      <script>\n",
       "        const buttonEl =\n",
       "          document.querySelector('#df-82cc89fd-29c0-49b8-947b-e52041803c00 button.colab-df-convert');\n",
       "        buttonEl.style.display =\n",
       "          google.colab.kernel.accessAllowed ? 'block' : 'none';\n",
       "\n",
       "        async function convertToInteractive(key) {\n",
       "          const element = document.querySelector('#df-82cc89fd-29c0-49b8-947b-e52041803c00');\n",
       "          const dataTable =\n",
       "            await google.colab.kernel.invokeFunction('convertToInteractive',\n",
       "                                                     [key], {});\n",
       "          if (!dataTable) return;\n",
       "\n",
       "          const docLinkHtml = 'Like what you see? Visit the ' +\n",
       "            '<a target=\"_blank\" href=https://colab.research.google.com/notebooks/data_table.ipynb>data table notebook</a>'\n",
       "            + ' to learn more about interactive tables.';\n",
       "          element.innerHTML = '';\n",
       "          dataTable['output_type'] = 'display_data';\n",
       "          await google.colab.output.renderOutput(dataTable, element);\n",
       "          const docLink = document.createElement('div');\n",
       "          docLink.innerHTML = docLinkHtml;\n",
       "          element.appendChild(docLink);\n",
       "        }\n",
       "      </script>\n",
       "    </div>\n",
       "  </div>\n",
       "  "
      ],
      "text/plain": [
       "              id       emotion\n",
       "0       0x28cc61       disgust\n",
       "1       0x2db41f       sadness\n",
       "2       0x2466f6           joy\n",
       "3       0x23f9e9       disgust\n",
       "4       0x1fb4e1       disgust\n",
       "...          ...           ...\n",
       "411967  0x2c4dc2           joy\n",
       "411968  0x31be7c           joy\n",
       "411969  0x1ca58e  anticipation\n",
       "411970  0x35c8ba           joy\n",
       "411971  0x1d941b           joy\n",
       "\n",
       "[411972 rows x 2 columns]"
      ]
     },
     "execution_count": 131,
     "metadata": {},
     "output_type": "execute_result"
    }
   ],
   "source": [
    "y_pred_emo = label_decode(label_encoder,y_pred)\n",
    "y_pred_emo = pd.Series(y_pred_emo)\n",
    "id = df_test['tweet_id']\n",
    "assert len(id)==len(y_pred_emo)\n",
    "pred_result = pd.concat([id, y_pred_emo], axis = 1)\n",
    "pred_result.rename(columns={'tweet_id':'id', 0:'emotion'}, inplace=True)\n",
    "pred_result"
   ]
  },
  {
   "cell_type": "code",
   "execution_count": null,
   "metadata": {
    "id": "AqcOobaT1JiB"
   },
   "outputs": [],
   "source": [
    "pred_result.to_csv('/content/drive/MyDrive/DMLab2/data/att_result.csv', index=False)"
   ]
  },
  {
   "cell_type": "code",
   "execution_count": null,
   "metadata": {
    "id": "Xv4gTG8B43C2"
   },
   "outputs": [],
   "source": []
  }
 ],
 "metadata": {
  "accelerator": "GPU",
  "colab": {
   "authorship_tag": "ABX9TyOXE8xyJy0BZCvyGaShmaIN",
   "provenance": [
    {
     "file_id": "1MywtUcbLPavSxIZMSpos7uj5dh3IG-ab",
     "timestamp": 1669271897901
    }
   ]
  },
  "gpuClass": "standard",
  "kernelspec": {
   "display_name": "Python 3 (ipykernel)",
   "language": "python",
   "name": "python3"
  },
  "language_info": {
   "codemirror_mode": {
    "name": "ipython",
    "version": 3
   },
   "file_extension": ".py",
   "mimetype": "text/x-python",
   "name": "python",
   "nbconvert_exporter": "python",
   "pygments_lexer": "ipython3",
   "version": "3.9.6"
  }
 },
 "nbformat": 4,
 "nbformat_minor": 1
}
